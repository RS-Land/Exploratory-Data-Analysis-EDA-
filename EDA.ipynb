{
 "cells": [
  {
   "cell_type": "markdown",
   "metadata": {},
   "source": [
    "# Research on car sales ads\n",
    "\n",
    "You're an analyst at Crankshaft List. Hundreds of free advertisements for vehicles are published on your site every day.\n",
    "\n",
    "You need to study data collected over the last few years and determine which factors influence the price of a vehicle. "
   ]
  },
  {
   "cell_type": "markdown",
   "metadata": {},
   "source": [
    "## Open the data file and study the general information. "
   ]
  },
  {
   "cell_type": "code",
   "execution_count": 41,
   "metadata": {},
   "outputs": [],
   "source": [
    "import pandas as pd\n",
    "import matplotlib.pyplot as plt\n",
    "import numpy as np \n",
    "import seaborn as sns"
   ]
  },
  {
   "cell_type": "code",
   "execution_count": 42,
   "metadata": {},
   "outputs": [
    {
     "name": "stdout",
     "output_type": "stream",
     "text": [
      "   price  model_year           model  condition  cylinders fuel  odometer  \\\n",
      "0   9400      2011.0          bmw x5       good        6.0  gas  145000.0   \n",
      "1  25500         NaN      ford f-150       good        6.0  gas   88705.0   \n",
      "2   5500      2013.0  hyundai sonata   like new        4.0  gas  110000.0   \n",
      "3   1500      2003.0      ford f-150       fair        8.0  gas       NaN   \n",
      "4  14900      2017.0    chrysler 200  excellent        4.0  gas   80903.0   \n",
      "5  14990      2014.0    chrysler 300  excellent        6.0  gas   57954.0   \n",
      "6  12990      2015.0    toyota camry  excellent        4.0  gas   79212.0   \n",
      "7  15990      2013.0     honda pilot  excellent        6.0  gas  109473.0   \n",
      "8  11500      2012.0     kia sorento  excellent        4.0  gas  104174.0   \n",
      "9   9200      2008.0     honda pilot  excellent        NaN  gas  147191.0   \n",
      "\n",
      "  transmission    type paint_color  is_4wd date_posted  days_listed  \n",
      "0    automatic     SUV         NaN     1.0  2018-06-23           19  \n",
      "1    automatic  pickup       white     1.0  2018-10-19           50  \n",
      "2    automatic   sedan         red     NaN  2019-02-07           79  \n",
      "3    automatic  pickup         NaN     NaN  2019-03-22            9  \n",
      "4    automatic   sedan       black     NaN  2019-04-02           28  \n",
      "5    automatic   sedan       black     1.0  2018-06-20           15  \n",
      "6    automatic   sedan       white     NaN  2018-12-27           73  \n",
      "7    automatic     SUV       black     1.0  2019-01-07           68  \n",
      "8    automatic     SUV         NaN     1.0  2018-07-16           19  \n",
      "9    automatic     SUV        blue     1.0  2019-02-15           17  \n"
     ]
    }
   ],
   "source": [
    "vehicles=pd.read_csv('/datasets/vehicles_us.csv')\n",
    "print(vehicles.head(10))"
   ]
  },
  {
   "cell_type": "code",
   "execution_count": 43,
   "metadata": {},
   "outputs": [
    {
     "name": "stdout",
     "output_type": "stream",
     "text": [
      "<class 'pandas.core.frame.DataFrame'>\n",
      "RangeIndex: 51525 entries, 0 to 51524\n",
      "Data columns (total 13 columns):\n",
      "price           51525 non-null int64\n",
      "model_year      47906 non-null float64\n",
      "model           51525 non-null object\n",
      "condition       51525 non-null object\n",
      "cylinders       46265 non-null float64\n",
      "fuel            51525 non-null object\n",
      "odometer        43633 non-null float64\n",
      "transmission    51525 non-null object\n",
      "type            51525 non-null object\n",
      "paint_color     42258 non-null object\n",
      "is_4wd          25572 non-null float64\n",
      "date_posted     51525 non-null object\n",
      "days_listed     51525 non-null int64\n",
      "dtypes: float64(4), int64(2), object(7)\n",
      "memory usage: 5.1+ MB\n",
      "None\n",
      "               price    model_year     cylinders       odometer   is_4wd  \\\n",
      "count   51525.000000  47906.000000  46265.000000   43633.000000  25572.0   \n",
      "mean    12132.464920   2009.750470      6.125235  115553.461738      1.0   \n",
      "std     10040.803015      6.282065      1.660360   65094.611341      0.0   \n",
      "min         1.000000   1908.000000      3.000000       0.000000      1.0   \n",
      "25%      5000.000000   2006.000000      4.000000   70000.000000      1.0   \n",
      "50%      9000.000000   2011.000000      6.000000  113000.000000      1.0   \n",
      "75%     16839.000000   2014.000000      8.000000  155000.000000      1.0   \n",
      "max    375000.000000   2019.000000     12.000000  990000.000000      1.0   \n",
      "\n",
      "       days_listed  \n",
      "count  51525.00000  \n",
      "mean      39.55476  \n",
      "std       28.20427  \n",
      "min        0.00000  \n",
      "25%       19.00000  \n",
      "50%       33.00000  \n",
      "75%       53.00000  \n",
      "max      271.00000  \n"
     ]
    }
   ],
   "source": [
    "print(vehicles.info())\n",
    "print(vehicles.describe())"
   ]
  },
  {
   "cell_type": "code",
   "execution_count": 44,
   "metadata": {},
   "outputs": [
    {
     "name": "stdout",
     "output_type": "stream",
     "text": [
      "['bmw x5' 'ford f-150' 'hyundai sonata' 'chrysler 200' 'chrysler 300'\n",
      " 'toyota camry' 'honda pilot' 'kia sorento' 'chevrolet silverado 1500'\n",
      " 'honda accord' 'ram 1500' 'gmc yukon' 'jeep cherokee'\n",
      " 'chevrolet traverse' 'hyundai elantra' 'chevrolet tahoe' 'toyota rav4'\n",
      " 'chevrolet silverado' 'jeep wrangler' 'chevrolet malibu' 'ford fusion se'\n",
      " 'chevrolet impala' 'chevrolet corvette' 'jeep liberty' 'toyota camry le'\n",
      " 'nissan altima' 'subaru outback' 'toyota highlander' 'dodge charger'\n",
      " 'toyota tacoma' 'chevrolet equinox' 'nissan rogue'\n",
      " 'mercedes-benz benze sprinter 2500' 'honda cr-v' 'jeep grand cherokee'\n",
      " 'toyota 4runner' 'ford focus' 'honda civic' 'kia soul'\n",
      " 'chevrolet colorado' 'ford f150 supercrew cab xlt'\n",
      " 'chevrolet camaro lt coupe 2d' 'chevrolet cruze' 'ford mustang'\n",
      " 'chevrolet silverado 3500hd' 'nissan frontier crew cab sv'\n",
      " 'subaru impreza' 'jeep grand cherokee laredo' 'nissan versa'\n",
      " 'ford f-250 sd' 'chevrolet silverado 1500 crew' 'ford f250 super duty'\n",
      " 'chevrolet camaro' 'ford mustang gt coupe 2d' 'subaru forester'\n",
      " 'ford explorer' 'ford f-350 sd' 'ford edge' 'nissan maxima' 'ford f-250'\n",
      " 'nissan sentra' 'ford f150' 'chevrolet suburban' 'ford expedition'\n",
      " 'dodge grand caravan' 'ford taurus' 'acura tl' 'ford f350 super duty'\n",
      " 'ford ranger' 'gmc sierra' 'hyundai santa fe' 'ford escape'\n",
      " 'gmc sierra 2500hd' 'honda civic lx' 'gmc sierra 1500' 'honda odyssey'\n",
      " 'cadillac escalade' 'volkswagen jetta' 'toyota corolla'\n",
      " 'chrysler town & country' 'volkswagen passat' 'toyota prius'\n",
      " 'buick enclave' 'ford fusion' 'toyota tundra' 'ram 3500' 'ram 2500'\n",
      " 'nissan frontier' 'chevrolet silverado 2500hd' 'jeep wrangler unlimited'\n",
      " 'ford f-250 super duty' 'gmc acadia' 'toyota sienna' 'ford focus se'\n",
      " 'ford f250' 'dodge dakota' 'ford f350' 'chevrolet trailblazer'\n",
      " 'ford econoline' 'nissan murano']\n",
      "model\n",
      "acura tl             236\n",
      "bmw x5               267\n",
      "buick enclave        271\n",
      "cadillac escalade    322\n",
      "chevrolet camaro     414\n",
      "                    ... \n",
      "toyota sienna        329\n",
      "toyota tacoma        827\n",
      "toyota tundra        603\n",
      "volkswagen jetta     519\n",
      "volkswagen passat    350\n",
      "Name: price, Length: 100, dtype: int64\n"
     ]
    }
   ],
   "source": [
    "print(vehicles['model'].unique())\n",
    "print(vehicles.groupby(by='model')['price'].count())"
   ]
  },
  {
   "cell_type": "code",
   "execution_count": 45,
   "metadata": {},
   "outputs": [
    {
     "name": "stdout",
     "output_type": "stream",
     "text": [
      "SUV            12405\n",
      "truck          12353\n",
      "sedan          12154\n",
      "pickup          6988\n",
      "coupe           2303\n",
      "wagon           1541\n",
      "mini-van        1161\n",
      "hatchback       1047\n",
      "van              633\n",
      "convertible      446\n",
      "other            256\n",
      "offroad          214\n",
      "bus               24\n",
      "Name: type, dtype: int64\n",
      "automatic    46902\n",
      "manual        2829\n",
      "other         1794\n",
      "Name: transmission, dtype: int64\n",
      "gas         47288\n",
      "diesel       3714\n",
      "hybrid        409\n",
      "other         108\n",
      "electric        6\n",
      "Name: fuel, dtype: int64\n",
      "excellent    24773\n",
      "good         20145\n",
      "like new      4742\n",
      "fair          1607\n",
      "new            143\n",
      "salvage        115\n",
      "Name: condition, dtype: int64\n"
     ]
    }
   ],
   "source": [
    "print(vehicles['type'].value_counts())\n",
    "print(vehicles['transmission'].value_counts())\n",
    "print(vehicles['fuel'].value_counts())\n",
    "print(vehicles['condition'].value_counts())"
   ]
  },
  {
   "cell_type": "markdown",
   "metadata": {},
   "source": [
    "### Conclusion"
   ]
  },
  {
   "cell_type": "markdown",
   "metadata": {},
   "source": [
    "After studying general information, we can see that out of 13 columns in our data, 5 has missing values. The column with the information of whether the vehicle has a 4-wheel drive has 50% missing data, but the type of data is boolean. Other columns with missing values have 7 - 18 % of missing data. \n",
    "There are no missing values in price or model columns therefore it might be that missing values in other columns are the result of people omitting some information in their adds.\n",
    "Unfortunately, based on the other information about the car in the add (like model  and date of the add, type and etc.), we can't fillin missing values using open sources from the internet. \n",
    "For example the same model could've been prodused within 5 years time period. \n",
    "As a result other columns require further investigation."
   ]
  },
  {
   "cell_type": "markdown",
   "metadata": {},
   "source": [
    "## Data preprocessing"
   ]
  },
  {
   "cell_type": "markdown",
   "metadata": {},
   "source": [
    "### Boolean column"
   ]
  },
  {
   "cell_type": "markdown",
   "metadata": {},
   "source": [
    "We start our data preprocessing from the is_4wd column. Values in the column are boolean, where 1 means the vehicle has 4-wheel drive and 0 - it doesn't. Therefore we can assume that all missing values are 0 - which means no 4-wheel drive.\n",
    "We will change data type to be boolean as well for convenience."
   ]
  },
  {
   "cell_type": "code",
   "execution_count": 46,
   "metadata": {},
   "outputs": [
    {
     "name": "stdout",
     "output_type": "stream",
     "text": [
      "False    25953\n",
      "True     25572\n",
      "Name: is_4wd, dtype: int64\n"
     ]
    }
   ],
   "source": [
    "#filling missing values with 0:\n",
    "vehicles['is_4wd'].fillna(0, inplace=True)\n",
    "\n",
    "#assign values type as boolean\n",
    "vehicles['is_4wd'] =vehicles['is_4wd'].astype('bool')\n",
    "print(vehicles['is_4wd'].value_counts())"
   ]
  },
  {
   "cell_type": "code",
   "execution_count": 47,
   "metadata": {},
   "outputs": [
    {
     "name": "stdout",
     "output_type": "stream",
     "text": [
      "<class 'pandas.core.frame.DataFrame'>\n",
      "RangeIndex: 51525 entries, 0 to 51524\n",
      "Data columns (total 13 columns):\n",
      "price           51525 non-null int64\n",
      "model_year      47906 non-null float64\n",
      "model           51525 non-null object\n",
      "condition       51525 non-null object\n",
      "cylinders       46265 non-null float64\n",
      "fuel            51525 non-null object\n",
      "odometer        43633 non-null float64\n",
      "transmission    51525 non-null object\n",
      "type            51525 non-null object\n",
      "paint_color     42258 non-null object\n",
      "is_4wd          51525 non-null bool\n",
      "date_posted     51525 non-null object\n",
      "days_listed     51525 non-null int64\n",
      "dtypes: bool(1), float64(3), int64(2), object(7)\n",
      "memory usage: 4.8+ MB\n"
     ]
    }
   ],
   "source": [
    "vehicles.info()"
   ]
  },
  {
   "cell_type": "markdown",
   "metadata": {},
   "source": [
    "### Model year"
   ]
  },
  {
   "cell_type": "markdown",
   "metadata": {},
   "source": [
    "This column has less than 10% of the missing values and can be filled with the median. \n",
    "Also, the year is an integer value, we will change the column type right away."
   ]
  },
  {
   "cell_type": "code",
   "execution_count": 48,
   "metadata": {
    "scrolled": true
   },
   "outputs": [
    {
     "name": "stdout",
     "output_type": "stream",
     "text": [
      "2013    4087\n",
      "2014    3868\n",
      "2012    3813\n",
      "2015    3761\n",
      "2011    3604\n",
      "        ... \n",
      "1955       1\n",
      "1961       1\n",
      "1949       1\n",
      "1954       1\n",
      "1936       1\n",
      "Name: model_year, Length: 68, dtype: int64\n"
     ]
    }
   ],
   "source": [
    "vehicles['model_year'] = vehicles.groupby('model')['model_year'].transform(lambda grp:grp.fillna(grp.mode()[0]))\n",
    "vehicles['model_year'] =vehicles['model_year'].astype('int')\n",
    "print(vehicles['model_year'].value_counts())"
   ]
  },
  {
   "cell_type": "markdown",
   "metadata": {},
   "source": [
    "### Odometer column"
   ]
  },
  {
   "cell_type": "markdown",
   "metadata": {},
   "source": [
    "Odometer column has more than 10% values of the missing data, but missing data in this column can be filled with median based on years and type."
   ]
  },
  {
   "cell_type": "code",
   "execution_count": 49,
   "metadata": {},
   "outputs": [
    {
     "name": "stdout",
     "output_type": "stream",
     "text": [
      "83\n",
      "0\n",
      "count     51525.000000\n",
      "mean     115764.775885\n",
      "std       62206.386620\n",
      "min           1.000000\n",
      "25%       73000.000000\n",
      "50%      113703.000000\n",
      "75%      153000.000000\n",
      "max      990000.000000\n",
      "Name: odometer, dtype: float64\n"
     ]
    }
   ],
   "source": [
    "vehicles['odometer']=vehicles['odometer'].fillna(vehicles.groupby(['model_year','model'])['odometer'].transform('median'))\n",
    "print(vehicles['odometer'].isnull().sum())\n",
    "vehicles['odometer'].fillna(0, inplace=True)\n",
    "vehicles.loc[vehicles['odometer'] ==0, 'odometer'] =vehicles['odometer'].median()\n",
    "print(vehicles['odometer'].isnull().sum())\n",
    "print(vehicles['odometer'].describe())"
   ]
  },
  {
   "cell_type": "markdown",
   "metadata": {},
   "source": [
    "### Cylinders column"
   ]
  },
  {
   "cell_type": "markdown",
   "metadata": {},
   "source": [
    "According to the various databases including ours, we can assume that for each model a certain amount of cylinders will be more common than any other.\n",
    "We'll use mode to fill in the data."
   ]
  },
  {
   "cell_type": "code",
   "execution_count": 50,
   "metadata": {},
   "outputs": [
    {
     "name": "stdout",
     "output_type": "stream",
     "text": [
      "8.0     15844\n",
      "6.0     15700\n",
      "4.0     13864\n",
      "10.0      549\n",
      "5.0       272\n",
      "3.0        34\n",
      "12.0        2\n",
      "Name: cylinders, dtype: int64\n",
      "                   cylinders\n",
      "model                       \n",
      "acura tl            5.971564\n",
      "bmw x5              6.406375\n",
      "buick enclave       6.000000\n",
      "cadillac escalade   7.986395\n",
      "chevrolet camaro    6.887097\n",
      "...                      ...\n",
      "toyota sienna       5.952381\n",
      "toyota tacoma       5.345205\n",
      "toyota tundra       7.919561\n",
      "volkswagen jetta    4.281116\n",
      "volkswagen passat   4.325949\n",
      "\n",
      "[100 rows x 1 columns]\n"
     ]
    }
   ],
   "source": [
    "print(vehicles['cylinders'].value_counts())\n",
    "print(vehicles.pivot_table(index='model',values='cylinders'))"
   ]
  },
  {
   "cell_type": "code",
   "execution_count": 51,
   "metadata": {},
   "outputs": [
    {
     "name": "stdout",
     "output_type": "stream",
     "text": [
      "model              model_year\n",
      "acura tl           1999          6\n",
      "                   2001          6\n",
      "                   2002          6\n",
      "                   2003          6\n",
      "                   2004          6\n",
      "                                ..\n",
      "volkswagen passat  2014          4\n",
      "                   2015          4\n",
      "                   2016          4\n",
      "                   2017          4\n",
      "                   2018          4\n",
      "Name: cylinders, Length: 2226, dtype: object\n"
     ]
    }
   ],
   "source": [
    "\n",
    "print(vehicles.groupby(['model','model_year'])['cylinders'].agg(pd.Series.mode))\n"
   ]
  },
  {
   "cell_type": "code",
   "execution_count": 52,
   "metadata": {
    "scrolled": true
   },
   "outputs": [
    {
     "name": "stdout",
     "output_type": "stream",
     "text": [
      "   price  model_year           model  condition  cylinders fuel  odometer  \\\n",
      "0   9400        2011          bmw x5       good          6  gas  145000.0   \n",
      "1  25500        2013      ford f-150       good          6  gas   88705.0   \n",
      "2   5500        2013  hyundai sonata   like new          4  gas  110000.0   \n",
      "3   1500        2003      ford f-150       fair          8  gas  177500.0   \n",
      "4  14900        2017    chrysler 200  excellent          4  gas   80903.0   \n",
      "5  14990        2014    chrysler 300  excellent          6  gas   57954.0   \n",
      "6  12990        2015    toyota camry  excellent          4  gas   79212.0   \n",
      "7  15990        2013     honda pilot  excellent          6  gas  109473.0   \n",
      "8  11500        2012     kia sorento  excellent          4  gas  104174.0   \n",
      "9   9200        2008     honda pilot  excellent          6  gas  147191.0   \n",
      "\n",
      "  transmission    type paint_color  is_4wd date_posted  days_listed  \n",
      "0    automatic     SUV         NaN    True  2018-06-23           19  \n",
      "1    automatic  pickup       white    True  2018-10-19           50  \n",
      "2    automatic   sedan         red   False  2019-02-07           79  \n",
      "3    automatic  pickup         NaN   False  2019-03-22            9  \n",
      "4    automatic   sedan       black   False  2019-04-02           28  \n",
      "5    automatic   sedan       black    True  2018-06-20           15  \n",
      "6    automatic   sedan       white   False  2018-12-27           73  \n",
      "7    automatic     SUV       black    True  2019-01-07           68  \n",
      "8    automatic     SUV         NaN    True  2018-07-16           19  \n",
      "9    automatic     SUV        blue    True  2019-02-15           17  \n",
      "model\n",
      "acura tl             6\n",
      "bmw x5               6\n",
      "buick enclave        6\n",
      "cadillac escalade    8\n",
      "chevrolet camaro     6\n",
      "                    ..\n",
      "toyota sienna        6\n",
      "toyota tacoma        6\n",
      "toyota tundra        8\n",
      "volkswagen jetta     4\n",
      "volkswagen passat    4\n",
      "Name: cylinders, Length: 100, dtype: int64\n"
     ]
    }
   ],
   "source": [
    "vehicles['cylinders'] = vehicles.groupby('model')['cylinders'].transform(lambda grp:grp.fillna(grp.mode()[0]))\n",
    "vehicles['cylinders'] =vehicles['cylinders'].astype('int')\n",
    "print(vehicles.head(10))\n",
    "print(vehicles.groupby('model')['cylinders'].agg(pd.Series.mode))"
   ]
  },
  {
   "cell_type": "markdown",
   "metadata": {},
   "source": [
    "### Color"
   ]
  },
  {
   "cell_type": "markdown",
   "metadata": {},
   "source": [
    "There is no way of finding out the color of the vehicle from the data we have, so we will replace NAs with the word \"other\":"
   ]
  },
  {
   "cell_type": "code",
   "execution_count": 53,
   "metadata": {},
   "outputs": [
    {
     "name": "stdout",
     "output_type": "stream",
     "text": [
      "white     10029\n",
      "other      9267\n",
      "black      7692\n",
      "silver     6244\n",
      "grey       5037\n",
      "blue       4475\n",
      "red        4421\n",
      "green      1396\n",
      "brown      1223\n",
      "custom     1153\n",
      "yellow      255\n",
      "orange      231\n",
      "purple      102\n",
      "Name: paint_color, dtype: int64\n",
      "<class 'pandas.core.frame.DataFrame'>\n",
      "RangeIndex: 51525 entries, 0 to 51524\n",
      "Data columns (total 13 columns):\n",
      "price           51525 non-null int64\n",
      "model_year      51525 non-null int64\n",
      "model           51525 non-null object\n",
      "condition       51525 non-null object\n",
      "cylinders       51525 non-null int64\n",
      "fuel            51525 non-null object\n",
      "odometer        51525 non-null float64\n",
      "transmission    51525 non-null object\n",
      "type            51525 non-null object\n",
      "paint_color     51525 non-null object\n",
      "is_4wd          51525 non-null bool\n",
      "date_posted     51525 non-null object\n",
      "days_listed     51525 non-null int64\n",
      "dtypes: bool(1), float64(1), int64(4), object(7)\n",
      "memory usage: 4.8+ MB\n",
      "None\n"
     ]
    }
   ],
   "source": [
    "#filling missing values:\n",
    "vehicles['paint_color'].fillna('other', inplace=True)\n",
    "print(vehicles['paint_color'].value_counts())\n",
    "print(vehicles.info())"
   ]
  },
  {
   "cell_type": "markdown",
   "metadata": {},
   "source": [
    "### Conclusion"
   ]
  },
  {
   "cell_type": "markdown",
   "metadata": {},
   "source": [
    "We filled in the missing values for columns where it was appropriate, and left two columns to fill in later.\n",
    "All float types of the columns were changed to integer to save space."
   ]
  },
  {
   "cell_type": "markdown",
   "metadata": {},
   "source": [
    "## Make calculations and add them to the table"
   ]
  },
  {
   "cell_type": "markdown",
   "metadata": {},
   "source": [
    "### Day of the week, month, and year"
   ]
  },
  {
   "cell_type": "code",
   "execution_count": 54,
   "metadata": {
    "scrolled": true
   },
   "outputs": [
    {
     "name": "stdout",
     "output_type": "stream",
     "text": [
      "    price  model_year                     model  condition  cylinders fuel  \\\n",
      "0    9400        2011                    bmw x5       good          6  gas   \n",
      "1   25500        2013                ford f-150       good          6  gas   \n",
      "2    5500        2013            hyundai sonata   like new          4  gas   \n",
      "3    1500        2003                ford f-150       fair          8  gas   \n",
      "4   14900        2017              chrysler 200  excellent          4  gas   \n",
      "5   14990        2014              chrysler 300  excellent          6  gas   \n",
      "6   12990        2015              toyota camry  excellent          4  gas   \n",
      "7   15990        2013               honda pilot  excellent          6  gas   \n",
      "8   11500        2012               kia sorento  excellent          4  gas   \n",
      "9    9200        2008               honda pilot  excellent          6  gas   \n",
      "10  19500        2011  chevrolet silverado 1500  excellent          8  gas   \n",
      "11   8990        2012              honda accord  excellent          4  gas   \n",
      "12  18990        2012                  ram 1500  excellent          8  gas   \n",
      "13  16500        2018            hyundai sonata  excellent          4  gas   \n",
      "14  12990        2009                 gmc yukon  excellent          8  gas   \n",
      "\n",
      "    odometer transmission    type paint_color  is_4wd date_posted  \\\n",
      "0   145000.0    automatic     SUV       other    True  2018-06-23   \n",
      "1    88705.0    automatic  pickup       white    True  2018-10-19   \n",
      "2   110000.0    automatic   sedan         red   False  2019-02-07   \n",
      "3   177500.0    automatic  pickup       other   False  2019-03-22   \n",
      "4    80903.0    automatic   sedan       black   False  2019-04-02   \n",
      "5    57954.0    automatic   sedan       black    True  2018-06-20   \n",
      "6    79212.0    automatic   sedan       white   False  2018-12-27   \n",
      "7   109473.0    automatic     SUV       black    True  2019-01-07   \n",
      "8   104174.0    automatic     SUV       other    True  2018-07-16   \n",
      "9   147191.0    automatic     SUV        blue    True  2019-02-15   \n",
      "10  128413.0    automatic  pickup       black    True  2018-09-17   \n",
      "11  111142.0    automatic   sedan        grey   False  2019-03-28   \n",
      "12  140742.0    automatic  pickup       other    True  2019-04-02   \n",
      "13   22104.0    automatic   sedan      silver   False  2019-01-14   \n",
      "14  132285.0    automatic     SUV       black    True  2019-01-31   \n",
      "\n",
      "    days_listed  weekday  month_placed  year_placed  \n",
      "0            19        5             6         2018  \n",
      "1            50        4            10         2018  \n",
      "2            79        3             2         2019  \n",
      "3             9        4             3         2019  \n",
      "4            28        1             4         2019  \n",
      "5            15        2             6         2018  \n",
      "6            73        3            12         2018  \n",
      "7            68        0             1         2019  \n",
      "8            19        0             7         2018  \n",
      "9            17        4             2         2019  \n",
      "10           38        0             9         2018  \n",
      "11           29        3             3         2019  \n",
      "12           37        1             4         2019  \n",
      "13           29        0             1         2019  \n",
      "14           24        3             1         2019  \n"
     ]
    }
   ],
   "source": [
    "vehicles['date_posted'] = pd.to_datetime(vehicles['date_posted'])\n",
    "vehicles['weekday'] = vehicles['date_posted'].dt.weekday\n",
    "vehicles['month_placed'] = vehicles['date_posted'].dt.month\n",
    "vehicles['year_placed'] = vehicles['date_posted'].dt.year\n",
    "print(vehicles.head(15))"
   ]
  },
  {
   "cell_type": "markdown",
   "metadata": {},
   "source": [
    "### The vehicle's age (in years) when the ad was placed"
   ]
  },
  {
   "cell_type": "markdown",
   "metadata": {},
   "source": [
    "There are cars that were sold the same year they were produced, so we will round that time up to 1 year."
   ]
  },
  {
   "cell_type": "code",
   "execution_count": 55,
   "metadata": {
    "scrolled": true
   },
   "outputs": [
    {
     "name": "stdout",
     "output_type": "stream",
     "text": [
      "<class 'pandas.core.frame.DataFrame'>\n",
      "RangeIndex: 51525 entries, 0 to 51524\n",
      "Data columns (total 17 columns):\n",
      "price           51525 non-null int64\n",
      "model_year      51525 non-null int64\n",
      "model           51525 non-null object\n",
      "condition       51525 non-null object\n",
      "cylinders       51525 non-null int64\n",
      "fuel            51525 non-null object\n",
      "odometer        51525 non-null float64\n",
      "transmission    51525 non-null object\n",
      "type            51525 non-null object\n",
      "paint_color     51525 non-null object\n",
      "is_4wd          51525 non-null bool\n",
      "date_posted     51525 non-null datetime64[ns]\n",
      "days_listed     51525 non-null int64\n",
      "weekday         51525 non-null int64\n",
      "month_placed    51525 non-null int64\n",
      "year_placed     51525 non-null int64\n",
      "car_age         51525 non-null int64\n",
      "dtypes: bool(1), datetime64[ns](1), float64(1), int64(8), object(6)\n",
      "memory usage: 6.3+ MB\n",
      "None\n",
      "6     4008\n",
      "5     3917\n",
      "7     3853\n",
      "8     3733\n",
      "4     3503\n",
      "      ... \n",
      "44       1\n",
      "66       1\n",
      "83       1\n",
      "60       1\n",
      "64       1\n",
      "Name: car_age, Length: 68, dtype: int64\n",
      "113703.0    276\n",
      "120000.0    207\n",
      "140000.0    199\n",
      "160000.0    188\n",
      "150000.0    178\n",
      "           ... \n",
      "70376.0       1\n",
      "111992.0      1\n",
      "140750.0      1\n",
      "24549.0       1\n",
      "240.0         1\n",
      "Name: odometer, Length: 18235, dtype: int64\n"
     ]
    }
   ],
   "source": [
    "vehicles['car_age'] = vehicles['year_placed'] - vehicles['model_year'] + 1\n",
    "vehicles['car_age'] =vehicles['car_age'].astype('int')\n",
    "print(vehicles.info())\n",
    "print(vehicles['car_age'].value_counts())\n",
    "print(vehicles['odometer'].value_counts())"
   ]
  },
  {
   "cell_type": "markdown",
   "metadata": {},
   "source": [
    "Now we can fill in some missing values for mileage:"
   ]
  },
  {
   "cell_type": "code",
   "execution_count": 56,
   "metadata": {},
   "outputs": [
    {
     "name": "stdout",
     "output_type": "stream",
     "text": [
      "   price  model_year           model  condition  cylinders fuel  odometer  \\\n",
      "0   9400        2011          bmw x5       good          6  gas  145000.0   \n",
      "1  25500        2013      ford f-150       good          6  gas   88705.0   \n",
      "2   5500        2013  hyundai sonata   like new          4  gas  110000.0   \n",
      "3   1500        2003      ford f-150       fair          8  gas  177500.0   \n",
      "4  14900        2017    chrysler 200  excellent          4  gas   80903.0   \n",
      "\n",
      "  transmission    type paint_color  is_4wd date_posted  days_listed  weekday  \\\n",
      "0    automatic     SUV       other    True  2018-06-23           19        5   \n",
      "1    automatic  pickup       white    True  2018-10-19           50        4   \n",
      "2    automatic   sedan         red   False  2019-02-07           79        3   \n",
      "3    automatic  pickup       other   False  2019-03-22            9        4   \n",
      "4    automatic   sedan       black   False  2019-04-02           28        1   \n",
      "\n",
      "   month_placed  year_placed  car_age  \n",
      "0             6         2018        8  \n",
      "1            10         2018        6  \n",
      "2             2         2019        7  \n",
      "3             3         2019       17  \n",
      "4             4         2019        3  \n",
      "113703.0    276\n",
      "120000.0    207\n",
      "140000.0    199\n",
      "160000.0    188\n",
      "150000.0    178\n",
      "           ... \n",
      "70376.0       1\n",
      "111992.0      1\n",
      "140750.0      1\n",
      "24549.0       1\n",
      "240.0         1\n",
      "Name: odometer, Length: 18235, dtype: int64\n",
      "0\n"
     ]
    }
   ],
   "source": [
    "vehicles.loc[vehicles['car_age']!=999,'odometer']=vehicles.loc[vehicles['car_age']!=999,'odometer'].fillna(vehicles.groupby(['condition',\n",
    "                                                                                    'model','car_age'])['odometer'].transform('median'))\n",
    "\n",
    "print(vehicles.head())\n",
    "print(vehicles['odometer'].value_counts())\n",
    "print(vehicles['odometer'].isna().sum())"
   ]
  },
  {
   "cell_type": "markdown",
   "metadata": {},
   "source": [
    "Since missing values in model year and in milage have no correlation, we filled missing values where it was possible based in the car age to increase the accuracy. \n",
    "Now we can deal with the rest of the missing values."
   ]
  },
  {
   "cell_type": "code",
   "execution_count": 57,
   "metadata": {
    "scrolled": true
   },
   "outputs": [
    {
     "name": "stdout",
     "output_type": "stream",
     "text": [
      "<class 'pandas.core.frame.DataFrame'>\n",
      "RangeIndex: 51525 entries, 0 to 51524\n",
      "Data columns (total 17 columns):\n",
      "price           51525 non-null int64\n",
      "model_year      51525 non-null int64\n",
      "model           51525 non-null object\n",
      "condition       51525 non-null object\n",
      "cylinders       51525 non-null int64\n",
      "fuel            51525 non-null object\n",
      "odometer        51525 non-null int64\n",
      "transmission    51525 non-null object\n",
      "type            51525 non-null object\n",
      "paint_color     51525 non-null object\n",
      "is_4wd          51525 non-null bool\n",
      "date_posted     51525 non-null datetime64[ns]\n",
      "days_listed     51525 non-null int64\n",
      "weekday         51525 non-null int64\n",
      "month_placed    51525 non-null int64\n",
      "year_placed     51525 non-null int64\n",
      "car_age         51525 non-null int64\n",
      "dtypes: bool(1), datetime64[ns](1), int64(9), object(6)\n",
      "memory usage: 6.3+ MB\n",
      "None\n",
      "               price    model_year     cylinders       odometer  days_listed  \\\n",
      "count   51525.000000  51525.000000  51525.000000   51525.000000  51525.00000   \n",
      "mean    12132.464920   2009.871033      6.121494  115764.765706     39.55476   \n",
      "std     10040.803015      6.145084      1.657296   62206.386503     28.20427   \n",
      "min         1.000000   1908.000000      3.000000       1.000000      0.00000   \n",
      "25%      5000.000000   2007.000000      4.000000   73000.000000     19.00000   \n",
      "50%      9000.000000   2011.000000      6.000000  113703.000000     33.00000   \n",
      "75%     16839.000000   2014.000000      8.000000  153000.000000     53.00000   \n",
      "max    375000.000000   2019.000000     12.000000  990000.000000    271.00000   \n",
      "\n",
      "            weekday  month_placed   year_placed       car_age  \n",
      "count  51525.000000  51525.000000  51525.000000  51525.000000  \n",
      "mean       3.005434      6.628491   2018.307462      8.478700  \n",
      "std        1.997759      3.474134      0.461447      6.103645  \n",
      "min        0.000000      1.000000   2018.000000      1.000000  \n",
      "25%        1.000000      3.000000   2018.000000      4.000000  \n",
      "50%        3.000000      7.000000   2018.000000      7.000000  \n",
      "75%        5.000000     10.000000   2019.000000     12.000000  \n",
      "max        6.000000     12.000000   2019.000000    110.000000  \n"
     ]
    }
   ],
   "source": [
    "\n",
    "vehicles['model_year']=vehicles['model_year'].replace(0, np.nan)\n",
    "vehicles['odometer'].fillna(0, inplace=True)\n",
    "\n",
    "vehicles['model_year'] = vehicles.groupby('model')['model_year'].transform(lambda grp:grp.fillna(grp.mode()[0]))\n",
    "vehicles['model_year'] =vehicles['model_year'].astype('int')\n",
    "\n",
    "\n",
    "vehicles['car_age']=vehicles['year_placed'] - vehicles['model_year'] \n",
    "vehicles.loc[vehicles['car_age']==0, 'car_age'] = 1\n",
    "vehicles['car_age'] =vehicles['car_age'].astype('int')\n",
    "\n",
    "\n",
    "\n",
    "vehicles.loc[vehicles['odometer'] ==0, 'odometer'] =vehicles['odometer'].median()\n",
    "vehicles['odometer'] =vehicles['odometer'].astype('int')\n",
    "\n",
    "\n",
    "print(vehicles.info())\n",
    "print(vehicles.describe())"
   ]
  },
  {
   "cell_type": "markdown",
   "metadata": {},
   "source": [
    "### The vehicle's average mileage per year"
   ]
  },
  {
   "cell_type": "code",
   "execution_count": 58,
   "metadata": {},
   "outputs": [
    {
     "name": "stdout",
     "output_type": "stream",
     "text": [
      "    price  model_year                     model  condition  cylinders fuel  \\\n",
      "0    9400        2011                    bmw x5       good          6  gas   \n",
      "1   25500        2013                ford f-150       good          6  gas   \n",
      "2    5500        2013            hyundai sonata   like new          4  gas   \n",
      "3    1500        2003                ford f-150       fair          8  gas   \n",
      "4   14900        2017              chrysler 200  excellent          4  gas   \n",
      "5   14990        2014              chrysler 300  excellent          6  gas   \n",
      "6   12990        2015              toyota camry  excellent          4  gas   \n",
      "7   15990        2013               honda pilot  excellent          6  gas   \n",
      "8   11500        2012               kia sorento  excellent          4  gas   \n",
      "9    9200        2008               honda pilot  excellent          6  gas   \n",
      "10  19500        2011  chevrolet silverado 1500  excellent          8  gas   \n",
      "11   8990        2012              honda accord  excellent          4  gas   \n",
      "12  18990        2012                  ram 1500  excellent          8  gas   \n",
      "13  16500        2018            hyundai sonata  excellent          4  gas   \n",
      "14  12990        2009                 gmc yukon  excellent          8  gas   \n",
      "\n",
      "    odometer transmission    type paint_color  is_4wd date_posted  \\\n",
      "0     145000    automatic     SUV       other    True  2018-06-23   \n",
      "1      88705    automatic  pickup       white    True  2018-10-19   \n",
      "2     110000    automatic   sedan         red   False  2019-02-07   \n",
      "3     177500    automatic  pickup       other   False  2019-03-22   \n",
      "4      80903    automatic   sedan       black   False  2019-04-02   \n",
      "5      57954    automatic   sedan       black    True  2018-06-20   \n",
      "6      79212    automatic   sedan       white   False  2018-12-27   \n",
      "7     109473    automatic     SUV       black    True  2019-01-07   \n",
      "8     104174    automatic     SUV       other    True  2018-07-16   \n",
      "9     147191    automatic     SUV        blue    True  2019-02-15   \n",
      "10    128413    automatic  pickup       black    True  2018-09-17   \n",
      "11    111142    automatic   sedan        grey   False  2019-03-28   \n",
      "12    140742    automatic  pickup       other    True  2019-04-02   \n",
      "13     22104    automatic   sedan      silver   False  2019-01-14   \n",
      "14    132285    automatic     SUV       black    True  2019-01-31   \n",
      "\n",
      "    days_listed  weekday  month_placed  year_placed  car_age  mileage_mean  \n",
      "0            19        5             6         2018        7         20714  \n",
      "1            50        4            10         2018        5         17741  \n",
      "2            79        3             2         2019        6         18333  \n",
      "3             9        4             3         2019       16         11093  \n",
      "4            28        1             4         2019        2         40451  \n",
      "5            15        2             6         2018        4         14488  \n",
      "6            73        3            12         2018        3         26404  \n",
      "7            68        0             1         2019        6         18245  \n",
      "8            19        0             7         2018        6         17362  \n",
      "9            17        4             2         2019       11         13381  \n",
      "10           38        0             9         2018        7         18344  \n",
      "11           29        3             3         2019        7         15877  \n",
      "12           37        1             4         2019        7         20106  \n",
      "13           29        0             1         2019        1         22104  \n",
      "14           24        3             1         2019       10         13228  \n",
      "<class 'pandas.core.frame.DataFrame'>\n",
      "RangeIndex: 51525 entries, 0 to 51524\n",
      "Data columns (total 18 columns):\n",
      "price           51525 non-null int64\n",
      "model_year      51525 non-null int64\n",
      "model           51525 non-null object\n",
      "condition       51525 non-null object\n",
      "cylinders       51525 non-null int64\n",
      "fuel            51525 non-null object\n",
      "odometer        51525 non-null int64\n",
      "transmission    51525 non-null object\n",
      "type            51525 non-null object\n",
      "paint_color     51525 non-null object\n",
      "is_4wd          51525 non-null bool\n",
      "date_posted     51525 non-null datetime64[ns]\n",
      "days_listed     51525 non-null int64\n",
      "weekday         51525 non-null int64\n",
      "month_placed    51525 non-null int64\n",
      "year_placed     51525 non-null int64\n",
      "car_age         51525 non-null int64\n",
      "mileage_mean    51525 non-null int64\n",
      "dtypes: bool(1), datetime64[ns](1), int64(10), object(6)\n",
      "memory usage: 6.7+ MB\n",
      "None\n",
      "count     51525.000000\n",
      "mean      18364.388937\n",
      "std       13581.586469\n",
      "min           0.000000\n",
      "25%       10937.000000\n",
      "50%       15285.000000\n",
      "75%       21918.000000\n",
      "max      373200.000000\n",
      "Name: mileage_mean, dtype: float64\n"
     ]
    }
   ],
   "source": [
    "vehicles['mileage_mean'] = vehicles['odometer']/vehicles['car_age']\n",
    "vehicles['mileage_mean'] =vehicles['mileage_mean'].astype('int')\n",
    "print(vehicles.head(15))\n",
    "print(vehicles.info())\n",
    "print(vehicles['mileage_mean'].describe())"
   ]
  },
  {
   "cell_type": "markdown",
   "metadata": {},
   "source": [
    "### Condition column"
   ]
  },
  {
   "cell_type": "code",
   "execution_count": 59,
   "metadata": {
    "scrolled": true
   },
   "outputs": [
    {
     "name": "stdout",
     "output_type": "stream",
     "text": [
      "3    24773\n",
      "2    20145\n",
      "4     4742\n",
      "1     1607\n",
      "5      143\n",
      "0      115\n",
      "Name: condition, dtype: int64\n"
     ]
    }
   ],
   "source": [
    "def condition_rate (condition):\n",
    "       \n",
    "    if condition == 'new':\n",
    "        return 5    \n",
    "    if condition =='like new':\n",
    "        return 4    \n",
    "    if condition =='excellent':\n",
    "        return 3\n",
    "    if condition =='good':\n",
    "        return 2\n",
    "    if condition =='fair':\n",
    "        return 1\n",
    "    if condition =='salvage':\n",
    "        return 0\n",
    "    \n",
    "    return 6\n",
    "\n",
    "vehicles['condition'] = vehicles['condition'].apply(condition_rate)\n",
    "vehicles['condition'] =vehicles['condition'].astype('int')\n",
    "print(vehicles['condition'].value_counts())"
   ]
  },
  {
   "cell_type": "markdown",
   "metadata": {},
   "source": [
    "### Conclusion"
   ]
  },
  {
   "cell_type": "markdown",
   "metadata": {},
   "source": [
    "Additional columns were created:\n",
    "- for day of the week, month, and year the ad was placed\n",
    "- for the vehicle's age (in years) when the ad was placed\n",
    "- for the vehicle's average mileage per year\n",
    "The rest of the missing values were filled in. \n",
    "All quantitative datatypes are integer now. Date column type was changed accordingly.\n",
    "In the condition column string values were replaced with a numeric scale."
   ]
  },
  {
   "cell_type": "markdown",
   "metadata": {},
   "source": [
    "## Carry out exploratory data analysis"
   ]
  },
  {
   "cell_type": "markdown",
   "metadata": {},
   "source": [
    "### Investigating the parameters"
   ]
  },
  {
   "cell_type": "markdown",
   "metadata": {},
   "source": [
    "Studying the following parameters: price, vehicle's age when the ad was placed, mileage, number of cylinders, and condition. Plotting the histograms for each of these parameters."
   ]
  },
  {
   "cell_type": "code",
   "execution_count": 60,
   "metadata": {},
   "outputs": [
    {
     "data": {
      "text/plain": [
       "<matplotlib.axes._subplots.AxesSubplot at 0x7f504d356710>"
      ]
     },
     "execution_count": 60,
     "metadata": {},
     "output_type": "execute_result"
    },
    {
     "data": {
      "image/png": "[encoded data removed]",
      "text/plain": [
       "<Figure size 432x288 with 1 Axes>"
      ]
     },
     "metadata": {
      "needs_background": "light"
     },
     "output_type": "display_data"
    }
   ],
   "source": [
    "vehicles['price'].plot(kind='hist', title='Price')"
   ]
  },
  {
   "cell_type": "markdown",
   "metadata": {},
   "source": [
    "We can see that the price range is mostly lies under the 50000 mark, but few outliers prevent us from investigating this range on our histogram."
   ]
  },
  {
   "cell_type": "code",
   "execution_count": 61,
   "metadata": {},
   "outputs": [
    {
     "data": {
      "text/plain": [
       "<matplotlib.axes._subplots.AxesSubplot at 0x7f4fcd5f4510>"
      ]
     },
     "execution_count": 61,
     "metadata": {},
     "output_type": "execute_result"
    },
    {
     "data": {
      "image/png": "[encoded data removed]",
      "text/plain": [
       "<Figure size 432x288 with 1 Axes>"
      ]
     },
     "metadata": {
      "needs_background": "light"
     },
     "output_type": "display_data"
    }
   ],
   "source": [
    "vehicles['car_age'].plot(kind='hist', title='Car age')"
   ]
  },
  {
   "cell_type": "markdown",
   "metadata": {},
   "source": [
    "Age of the most cars do not exceed 20 years, so we need to close up to increase the readability of the histogram."
   ]
  },
  {
   "cell_type": "code",
   "execution_count": 62,
   "metadata": {},
   "outputs": [
    {
     "data": {
      "text/plain": [
       "<matplotlib.axes._subplots.AxesSubplot at 0x7f4fcd560d90>"
      ]
     },
     "execution_count": 62,
     "metadata": {},
     "output_type": "execute_result"
    },
    {
     "data": {
      "image/png": "[encoded data removed]",
      "text/plain": [
       "<Figure size 432x288 with 1 Axes>"
      ]
     },
     "metadata": {
      "needs_background": "light"
     },
     "output_type": "display_data"
    }
   ],
   "source": [
    "vehicles['odometer'].plot(kind='hist', title='Mileage')"
   ]
  },
  {
   "cell_type": "markdown",
   "metadata": {},
   "source": [
    "Same as in the previous histograms we have outliers, whereas the most common mileage is between 0 and 200000."
   ]
  },
  {
   "cell_type": "code",
   "execution_count": 63,
   "metadata": {},
   "outputs": [
    {
     "data": {
      "text/plain": [
       "<matplotlib.axes._subplots.AxesSubplot at 0x7f4fcd4f7d90>"
      ]
     },
     "execution_count": 63,
     "metadata": {},
     "output_type": "execute_result"
    },
    {
     "data": {
      "image/png": "[encoded data removed]",
      "text/plain": [
       "<Figure size 432x288 with 1 Axes>"
      ]
     },
     "metadata": {
      "needs_background": "light"
     },
     "output_type": "display_data"
    }
   ],
   "source": [
    "vehicles['cylinders'].plot(kind='hist', title='Cylinders')"
   ]
  },
  {
   "cell_type": "markdown",
   "metadata": {},
   "source": [
    "Histogram for cylinders seems reliable, with no suspicious outliers."
   ]
  },
  {
   "cell_type": "code",
   "execution_count": 64,
   "metadata": {},
   "outputs": [
    {
     "data": {
      "text/plain": [
       "<matplotlib.axes._subplots.AxesSubplot at 0x7f4fcd4df050>"
      ]
     },
     "execution_count": 64,
     "metadata": {},
     "output_type": "execute_result"
    },
    {
     "data": {
      "image/png": "[encoded data removed]",
      "text/plain": [
       "<Figure size 432x288 with 1 Axes>"
      ]
     },
     "metadata": {
      "needs_background": "light"
     },
     "output_type": "display_data"
    }
   ],
   "source": [
    "vehicles['condition'].plot(kind='hist', title='Condition')"
   ]
  },
  {
   "cell_type": "markdown",
   "metadata": {},
   "source": [
    "Histogram for condition has no outliers and is in an accordance with the data."
   ]
  },
  {
   "cell_type": "markdown",
   "metadata": {},
   "source": [
    "### Filtered data"
   ]
  },
  {
   "cell_type": "markdown",
   "metadata": {},
   "source": [
    "We will investigate the outliers for all parameters of interest using boxplots and then write filtered data into the new data frame."
   ]
  },
  {
   "cell_type": "code",
   "execution_count": 65,
   "metadata": {},
   "outputs": [
    {
     "name": "stdout",
     "output_type": "stream",
     "text": [
      "count     51525.000000\n",
      "mean      12132.464920\n",
      "std       10040.803015\n",
      "min           1.000000\n",
      "25%        5000.000000\n",
      "50%        9000.000000\n",
      "75%       16839.000000\n",
      "max      375000.000000\n",
      "Name: price, dtype: float64\n"
     ]
    },
    {
     "data": {
      "text/plain": [
       "(0, 35000)"
      ]
     },
     "execution_count": 65,
     "metadata": {},
     "output_type": "execute_result"
    },
    {
     "data": {
      "image/png": "[encoded data removed]",
      "text/plain": [
       "<Figure size 432x288 with 1 Axes>"
      ]
     },
     "metadata": {
      "needs_background": "light"
     },
     "output_type": "display_data"
    }
   ],
   "source": [
    "print(vehicles['price'].describe())\n",
    "vehicles.boxplot(column='price')\n",
    "plt.ylim(0,35000)"
   ]
  },
  {
   "cell_type": "code",
   "execution_count": 66,
   "metadata": {},
   "outputs": [],
   "source": [
    "vehicles_filt=vehicles.query('price<=35000')"
   ]
  },
  {
   "cell_type": "code",
   "execution_count": 67,
   "metadata": {},
   "outputs": [
    {
     "name": "stdout",
     "output_type": "stream",
     "text": [
      "count    50111.000000\n",
      "mean         8.621660\n",
      "std          6.007409\n",
      "min          1.000000\n",
      "25%          4.000000\n",
      "50%          8.000000\n",
      "75%         12.000000\n",
      "max        110.000000\n",
      "Name: car_age, dtype: float64\n"
     ]
    },
    {
     "data": {
      "text/plain": [
       "(0, 25)"
      ]
     },
     "execution_count": 67,
     "metadata": {},
     "output_type": "execute_result"
    },
    {
     "data": {
      "image/png": "[encoded data removed]",
      "text/plain": [
       "<Figure size 432x288 with 1 Axes>"
      ]
     },
     "metadata": {
      "needs_background": "light"
     },
     "output_type": "display_data"
    }
   ],
   "source": [
    "print(vehicles_filt['car_age'].describe())\n",
    "vehicles_filt.boxplot(column='car_age')\n",
    "plt.ylim(0,25)"
   ]
  },
  {
   "cell_type": "code",
   "execution_count": 68,
   "metadata": {},
   "outputs": [],
   "source": [
    "vehicles_filt=vehicles_filt.query('car_age<=25')"
   ]
  },
  {
   "cell_type": "code",
   "execution_count": 69,
   "metadata": {},
   "outputs": [
    {
     "name": "stdout",
     "output_type": "stream",
     "text": [
      "count     49500.000000\n",
      "mean     117772.354707\n",
      "std       61203.426451\n",
      "min           1.000000\n",
      "25%       76220.000000\n",
      "50%      115828.000000\n",
      "75%      154000.000000\n",
      "max      990000.000000\n",
      "Name: odometer, dtype: float64\n"
     ]
    },
    {
     "data": {
      "text/plain": [
       "(0, 280000)"
      ]
     },
     "execution_count": 69,
     "metadata": {},
     "output_type": "execute_result"
    },
    {
     "data": {
      "image/png": "[encoded data removed]",
      "text/plain": [
       "<Figure size 432x288 with 1 Axes>"
      ]
     },
     "metadata": {
      "needs_background": "light"
     },
     "output_type": "display_data"
    }
   ],
   "source": [
    "print(vehicles_filt['odometer'].describe())\n",
    "vehicles_filt.boxplot(column='odometer')\n",
    "plt.ylim(0,280000)"
   ]
  },
  {
   "cell_type": "code",
   "execution_count": 70,
   "metadata": {},
   "outputs": [],
   "source": [
    "vehicles_filt=vehicles_filt.query('odometer<=280000')"
   ]
  },
  {
   "cell_type": "code",
   "execution_count": 71,
   "metadata": {},
   "outputs": [
    {
     "name": "stdout",
     "output_type": "stream",
     "text": [
      "count    48997.000000\n",
      "mean         6.064126\n",
      "std          1.656376\n",
      "min          3.000000\n",
      "25%          4.000000\n",
      "50%          6.000000\n",
      "75%          8.000000\n",
      "max         12.000000\n",
      "Name: cylinders, dtype: float64\n"
     ]
    },
    {
     "data": {
      "text/plain": [
       "<matplotlib.axes._subplots.AxesSubplot at 0x7f4fc4822a50>"
      ]
     },
     "execution_count": 71,
     "metadata": {},
     "output_type": "execute_result"
    },
    {
     "data": {
      "image/png": "[encoded data removed]",
      "text/plain": [
       "<Figure size 432x288 with 1 Axes>"
      ]
     },
     "metadata": {
      "needs_background": "light"
     },
     "output_type": "display_data"
    }
   ],
   "source": [
    "print(vehicles_filt['cylinders'].describe())\n",
    "vehicles_filt.boxplot(column='cylinders')"
   ]
  },
  {
   "cell_type": "code",
   "execution_count": 72,
   "metadata": {},
   "outputs": [
    {
     "name": "stdout",
     "output_type": "stream",
     "text": [
      "count    48997.000000\n",
      "mean         2.633100\n",
      "std          0.700396\n",
      "min          0.000000\n",
      "25%          2.000000\n",
      "50%          3.000000\n",
      "75%          3.000000\n",
      "max          5.000000\n",
      "Name: condition, dtype: float64\n"
     ]
    },
    {
     "data": {
      "text/plain": [
       "<matplotlib.axes._subplots.AxesSubplot at 0x7f4fc4786850>"
      ]
     },
     "execution_count": 72,
     "metadata": {},
     "output_type": "execute_result"
    },
    {
     "data": {
      "image/png": "[encoded data removed]",
      "text/plain": [
       "<Figure size 432x288 with 1 Axes>"
      ]
     },
     "metadata": {
      "needs_background": "light"
     },
     "output_type": "display_data"
    }
   ],
   "source": [
    "print(vehicles_filt['condition'].describe())\n",
    "vehicles_filt.boxplot(column='condition')\n"
   ]
  },
  {
   "cell_type": "code",
   "execution_count": 73,
   "metadata": {},
   "outputs": [
    {
     "data": {
      "text/plain": [
       "<matplotlib.axes._subplots.AxesSubplot at 0x7f4fc4770190>"
      ]
     },
     "execution_count": 73,
     "metadata": {},
     "output_type": "execute_result"
    },
    {
     "data": {
      "image/png": "[encoded data removed]",
      "text/plain": [
       "<Figure size 432x288 with 1 Axes>"
      ]
     },
     "metadata": {
      "needs_background": "light"
     },
     "output_type": "display_data"
    }
   ],
   "source": [
    "vehicles_filt['price'].plot(kind='hist', title='Price')    "
   ]
  },
  {
   "cell_type": "markdown",
   "metadata": {},
   "source": [
    "Now, without the outliers, we can investigate the actual distribution of the prices. The peak is around 5000, the prices that are higer get more an more rare."
   ]
  },
  {
   "cell_type": "code",
   "execution_count": 74,
   "metadata": {
    "scrolled": true
   },
   "outputs": [
    {
     "data": {
      "text/plain": [
       "<matplotlib.axes._subplots.AxesSubplot at 0x7f4fc4690f50>"
      ]
     },
     "execution_count": 74,
     "metadata": {},
     "output_type": "execute_result"
    },
    {
     "data": {
      "image/png": "[encoded data removed]",
      "text/plain": [
       "<Figure size 432x288 with 1 Axes>"
      ]
     },
     "metadata": {
      "needs_background": "light"
     },
     "output_type": "display_data"
    }
   ],
   "source": [
    "vehicles_filt['car_age'].plot(kind='hist', title='Car age')"
   ]
  },
  {
   "cell_type": "markdown",
   "metadata": {},
   "source": [
    "Like with a price histogram now we can see that most cars are sold within the first 7 years after they've been prodused."
   ]
  },
  {
   "cell_type": "code",
   "execution_count": 75,
   "metadata": {},
   "outputs": [
    {
     "data": {
      "text/plain": [
       "<matplotlib.axes._subplots.AxesSubplot at 0x7f4fc4699f10>"
      ]
     },
     "execution_count": 75,
     "metadata": {},
     "output_type": "execute_result"
    },
    {
     "data": {
      "image/png": "[encoded data removed]",
      "text/plain": [
       "<Figure size 432x288 with 1 Axes>"
      ]
     },
     "metadata": {
      "needs_background": "light"
     },
     "output_type": "display_data"
    }
   ],
   "source": [
    "vehicles_filt['odometer'].plot(kind='hist', title='Mileage')"
   ]
  },
  {
   "cell_type": "markdown",
   "metadata": {},
   "source": [
    "The peak for milerage lies around 125000, that's the most common point for lifetime of the car to be sold."
   ]
  },
  {
   "cell_type": "code",
   "execution_count": 76,
   "metadata": {},
   "outputs": [
    {
     "data": {
      "text/plain": [
       "<matplotlib.axes._subplots.AxesSubplot at 0x7f4fc45fa650>"
      ]
     },
     "execution_count": 76,
     "metadata": {},
     "output_type": "execute_result"
    },
    {
     "data": {
      "image/png": "[encoded data removed]",
      "text/plain": [
       "<Figure size 432x288 with 1 Axes>"
      ]
     },
     "metadata": {
      "needs_background": "light"
     },
     "output_type": "display_data"
    }
   ],
   "source": [
    "vehicles_filt['cylinders'].plot(kind='hist', title='Cylinders')"
   ]
  },
  {
   "cell_type": "markdown",
   "metadata": {},
   "source": [
    "This histigram didn't have any outliers, we can tell that most car models have 4,6 or 8 cylinders."
   ]
  },
  {
   "cell_type": "code",
   "execution_count": 77,
   "metadata": {},
   "outputs": [
    {
     "data": {
      "text/plain": [
       "<matplotlib.axes._subplots.AxesSubplot at 0x7f4fc4516850>"
      ]
     },
     "execution_count": 77,
     "metadata": {},
     "output_type": "execute_result"
    },
    {
     "data": {
      "image/png": "[encoded data removed]",
      "text/plain": [
       "<Figure size 432x288 with 1 Axes>"
      ]
     },
     "metadata": {
      "needs_background": "light"
     },
     "output_type": "display_data"
    }
   ],
   "source": [
    "vehicles_filt['condition'].plot(kind='hist', title='Condition')"
   ]
  },
  {
   "cell_type": "markdown",
   "metadata": {},
   "source": [
    "Here we can see that most people claim the condition of the car to be good or excelent, which makes sense since it's an ad and  they are trying to sell 5-years old car with the 125000 mileage."
   ]
  },
  {
   "cell_type": "markdown",
   "metadata": {},
   "source": [
    "### Ads"
   ]
  },
  {
   "cell_type": "code",
   "execution_count": 78,
   "metadata": {},
   "outputs": [
    {
     "name": "stdout",
     "output_type": "stream",
     "text": [
      "The median for the days listed is 33.0\n",
      "count    48997.000000\n",
      "mean        39.526277\n",
      "std         28.186661\n",
      "min          0.000000\n",
      "25%         19.000000\n",
      "50%         33.000000\n",
      "75%         53.000000\n",
      "max        271.000000\n",
      "Name: days_listed, dtype: float64\n"
     ]
    },
    {
     "data": {
      "image/png": "[encoded data removed]",
      "text/plain": [
       "<Figure size 432x288 with 1 Axes>"
      ]
     },
     "metadata": {
      "needs_background": "light"
     },
     "output_type": "display_data"
    }
   ],
   "source": [
    "vehicles_filt['days_listed'].plot(kind='hist', title='days_listed')\n",
    "print('The median for the days listed is',vehicles_filt['days_listed'].median())\n",
    "print(vehicles_filt['days_listed'].describe())"
   ]
  },
  {
   "cell_type": "code",
   "execution_count": 79,
   "metadata": {},
   "outputs": [
    {
     "data": {
      "text/plain": [
       "(0, 105)"
      ]
     },
     "execution_count": 79,
     "metadata": {},
     "output_type": "execute_result"
    },
    {
     "data": {
      "image/png": "[encoded data removed]",
      "text/plain": [
       "<Figure size 432x288 with 1 Axes>"
      ]
     },
     "metadata": {
      "needs_background": "light"
     },
     "output_type": "display_data"
    }
   ],
   "source": [
    "vehicles_filt.boxplot(column='days_listed')\n",
    "plt.ylim(0,105)"
   ]
  },
  {
   "cell_type": "code",
   "execution_count": 80,
   "metadata": {},
   "outputs": [
    {
     "data": {
      "text/plain": [
       "array([[<matplotlib.axes._subplots.AxesSubplot object at 0x7f4fc3f26850>]],\n",
       "      dtype=object)"
      ]
     },
     "execution_count": 80,
     "metadata": {},
     "output_type": "execute_result"
    },
    {
     "data": {
      "image/png": "[encoded data removed]",
      "text/plain": [
       "<Figure size 432x288 with 1 Axes>"
      ]
     },
     "metadata": {
      "needs_background": "light"
     },
     "output_type": "display_data"
    }
   ],
   "source": [
    "vehicles_filt.hist('days_listed', bins=20, range=(0,125))"
   ]
  },
  {
   "cell_type": "markdown",
   "metadata": {},
   "source": [
    "Mean and median values of the days listed doesn't differ much. We can conclude that typicaly the car is sold in a month.\n",
    "We can also consider the time less then 5 days of putting down the ad to be abnormally small.\n",
    "And the time above 105 days to be abnormally long."
   ]
  },
  {
   "cell_type": "markdown",
   "metadata": {},
   "source": [
    "The number of ads and the average price for each type of vehicle:\n"
   ]
  },
  {
   "cell_type": "code",
   "execution_count": 81,
   "metadata": {},
   "outputs": [
    {
     "name": "stdout",
     "output_type": "stream",
     "text": [
      "               count          mean\n",
      "type                              \n",
      "bus             23.0  17445.913043\n",
      "truck        11324.0  15204.983045\n",
      "pickup        6439.0  15060.857431\n",
      "offroad        187.0  14388.058824\n",
      "coupe         2059.0  13505.031569\n",
      "convertible    359.0  12760.529248\n",
      "van            625.0  10531.702400\n",
      "SUV          12010.0  10484.034638\n",
      "other          238.0  10447.113445\n",
      "wagon         1510.0   9002.566225\n",
      "mini-van      1151.0   8028.396177\n",
      "sedan        12058.0   6961.990131\n",
      "hatchback     1014.0   6823.960552\n"
     ]
    }
   ],
   "source": [
    "vehicles_type = vehicles_filt.pivot_table(index='type',values ='price', aggfunc=('count','mean'))\n",
    "print(vehicles_type.sort_values(by='mean', ascending = False))"
   ]
  },
  {
   "cell_type": "markdown",
   "metadata": {},
   "source": [
    "As expected the most expensive type of cars are the big ones, and the ones with specific purposes, like buses, trucks, etc.\n",
    "The cars for people to use in the city in their everyday life are the least expensive."
   ]
  },
  {
   "cell_type": "code",
   "execution_count": 82,
   "metadata": {},
   "outputs": [
    {
     "name": "stdout",
     "output_type": "stream",
     "text": [
      "               count          mean\n",
      "type                              \n",
      "sedan        12058.0   6961.990131\n",
      "SUV          12010.0  10484.034638\n",
      "truck        11324.0  15204.983045\n",
      "pickup        6439.0  15060.857431\n",
      "coupe         2059.0  13505.031569\n",
      "wagon         1510.0   9002.566225\n",
      "mini-van      1151.0   8028.396177\n",
      "hatchback     1014.0   6823.960552\n",
      "van            625.0  10531.702400\n",
      "convertible    359.0  12760.529248\n",
      "other          238.0  10447.113445\n",
      "offroad        187.0  14388.058824\n",
      "bus             23.0  17445.913043\n"
     ]
    },
    {
     "data": {
      "text/plain": [
       "<matplotlib.axes._subplots.AxesSubplot at 0x7f4fc3e74310>"
      ]
     },
     "execution_count": 82,
     "metadata": {},
     "output_type": "execute_result"
    },
    {
     "data": {
      "image/png": "[encoded data removed]",
      "text/plain": [
       "<Figure size 432x288 with 1 Axes>"
      ]
     },
     "metadata": {
      "needs_background": "light"
     },
     "output_type": "display_data"
    }
   ],
   "source": [
    "print(vehicles_type.sort_values(by='count', ascending = False))\n",
    "vehicles_type['count'].plot(kind='bar')"
   ]
  },
  {
   "cell_type": "markdown",
   "metadata": {},
   "source": [
    "The most popular cars to be sold are sedans and SUVs."
   ]
  },
  {
   "cell_type": "markdown",
   "metadata": {},
   "source": [
    "### Price Factors"
   ]
  },
  {
   "cell_type": "markdown",
   "metadata": {},
   "source": [
    "#### Car age"
   ]
  },
  {
   "cell_type": "code",
   "execution_count": 83,
   "metadata": {},
   "outputs": [
    {
     "name": "stdout",
     "output_type": "stream",
     "text": [
      "-0.6047486915564263\n"
     ]
    },
    {
     "data": {
      "text/plain": [
       "<matplotlib.axes._subplots.AxesSubplot at 0x7f4fc4485850>"
      ]
     },
     "execution_count": 83,
     "metadata": {},
     "output_type": "execute_result"
    },
    {
     "data": {
      "image/png": "[encoded data removed]",
      "text/plain": [
       "<Figure size 432x288 with 1 Axes>"
      ]
     },
     "metadata": {
      "needs_background": "light"
     },
     "output_type": "display_data"
    }
   ],
   "source": [
    "print(vehicles_filt.query('type==\"sedan\"')['car_age'].corr(vehicles_filt.query('type==\"sedan\"')['price']))\n",
    "vehicles_filt.query('type==\"sedan\"').plot(x='car_age',y='price', kind='scatter',grid=True)"
   ]
  },
  {
   "cell_type": "code",
   "execution_count": 84,
   "metadata": {},
   "outputs": [
    {
     "name": "stdout",
     "output_type": "stream",
     "text": [
      "-0.5711844961356634\n"
     ]
    },
    {
     "data": {
      "text/plain": [
       "<matplotlib.axes._subplots.AxesSubplot at 0x7f4fcccf29d0>"
      ]
     },
     "execution_count": 84,
     "metadata": {},
     "output_type": "execute_result"
    },
    {
     "data": {
      "image/png": "[encoded data removed]",
      "text/plain": [
       "<Figure size 432x288 with 1 Axes>"
      ]
     },
     "metadata": {
      "needs_background": "light"
     },
     "output_type": "display_data"
    }
   ],
   "source": [
    "print(vehicles_filt.query('type==\"SUV\"')['car_age'].corr(vehicles_filt.query('type==\"SUV\"')['price']))\n",
    "vehicles_filt.query('type==\"SUV\"').plot(x='car_age',y='price', kind='scatter',grid=True)"
   ]
  },
  {
   "cell_type": "markdown",
   "metadata": {},
   "source": [
    "Pearson correlation coefficient for the price-age correlation is around -0.6 for the most popular types of cars, which is a significant  correlation.\n",
    "As expected as the car age increases the car price decreases."
   ]
  },
  {
   "cell_type": "markdown",
   "metadata": {},
   "source": [
    "#### Mileage"
   ]
  },
  {
   "cell_type": "code",
   "execution_count": 85,
   "metadata": {},
   "outputs": [
    {
     "name": "stdout",
     "output_type": "stream",
     "text": [
      "-0.5587781758827389\n"
     ]
    },
    {
     "data": {
      "text/plain": [
       "<matplotlib.axes._subplots.AxesSubplot at 0x7f4fc3fd7910>"
      ]
     },
     "execution_count": 85,
     "metadata": {},
     "output_type": "execute_result"
    },
    {
     "data": {
      "image/png": "[encoded data removed]",
      "text/plain": [
       "<Figure size 432x288 with 1 Axes>"
      ]
     },
     "metadata": {
      "needs_background": "light"
     },
     "output_type": "display_data"
    }
   ],
   "source": [
    "print(vehicles_filt.query('type==\"sedan\"')['odometer'].corr(vehicles_filt.query('type==\"sedan\"')['price']))\n",
    "vehicles_filt.query('type==\"sedan\"').plot(x='odometer',y='price', kind='scatter',grid=True)"
   ]
  },
  {
   "cell_type": "code",
   "execution_count": 86,
   "metadata": {},
   "outputs": [
    {
     "name": "stdout",
     "output_type": "stream",
     "text": [
      "-0.5264064560755072\n"
     ]
    },
    {
     "data": {
      "text/plain": [
       "<matplotlib.axes._subplots.AxesSubplot at 0x7f4fc3e8ea10>"
      ]
     },
     "execution_count": 86,
     "metadata": {},
     "output_type": "execute_result"
    },
    {
     "data": {
      "image/png": "[encoded data removed]",
      "text/plain": [
       "<Figure size 432x288 with 1 Axes>"
      ]
     },
     "metadata": {
      "needs_background": "light"
     },
     "output_type": "display_data"
    }
   ],
   "source": [
    "print(vehicles_filt.query('type==\"SUV\"')['odometer'].corr(vehicles_filt.query('type==\"SUV\"')['price']))\n",
    "vehicles_filt.query('type==\"SUV\"').plot(x='odometer',y='price', kind='scatter',grid=True)"
   ]
  },
  {
   "cell_type": "markdown",
   "metadata": {},
   "source": [
    "Pearson correlation coefficient for the price-mileage correlation is around -0.55, therefore big mileage decreases the price of the vehicle."
   ]
  },
  {
   "cell_type": "markdown",
   "metadata": {},
   "source": [
    "#### Condition"
   ]
  },
  {
   "cell_type": "code",
   "execution_count": 87,
   "metadata": {},
   "outputs": [
    {
     "name": "stdout",
     "output_type": "stream",
     "text": [
      "0.2948143441786405\n"
     ]
    },
    {
     "data": {
      "text/plain": [
       "<matplotlib.axes._subplots.AxesSubplot at 0x7f4fc3df30d0>"
      ]
     },
     "execution_count": 87,
     "metadata": {},
     "output_type": "execute_result"
    },
    {
     "data": {
      "image/png": "[encoded data removed]",
      "text/plain": [
       "<Figure size 432x288 with 1 Axes>"
      ]
     },
     "metadata": {
      "needs_background": "light"
     },
     "output_type": "display_data"
    }
   ],
   "source": [
    "print(vehicles_filt.query('type==\"sedan\"')['condition'].corr(vehicles_filt.query('type==\"sedan\"')['price']))\n",
    "vehicles_filt.query('type==\"sedan\"').plot(x='condition',y='price', kind='scatter',grid=True)"
   ]
  },
  {
   "cell_type": "code",
   "execution_count": 88,
   "metadata": {},
   "outputs": [
    {
     "name": "stdout",
     "output_type": "stream",
     "text": [
      "0.26410237210719006\n"
     ]
    },
    {
     "data": {
      "text/plain": [
       "<matplotlib.axes._subplots.AxesSubplot at 0x7f4fc3d7b110>"
      ]
     },
     "execution_count": 88,
     "metadata": {},
     "output_type": "execute_result"
    },
    {
     "data": {
      "image/png": "[encoded data removed]",
      "text/plain": [
       "<Figure size 432x288 with 1 Axes>"
      ]
     },
     "metadata": {
      "needs_background": "light"
     },
     "output_type": "display_data"
    }
   ],
   "source": [
    "print(vehicles_filt.query('type==\"SUV\"')['condition'].corr(vehicles_filt.query('type==\"SUV\"')['price']))\n",
    "vehicles_filt.query('type==\"SUV\"').plot(x='condition',y='price', kind='scatter',grid=True)"
   ]
  },
  {
   "cell_type": "markdown",
   "metadata": {},
   "source": [
    "The condition is a parameter that people put themselves, in reality it's a parameter that is affected by many factors. In this case we don't see a strong correlation, since most people claim the car to be in relatively good condition, but the price is probably affected more by some more objective parameters."
   ]
  },
  {
   "cell_type": "markdown",
   "metadata": {},
   "source": [
    "#### Transmission"
   ]
  },
  {
   "cell_type": "code",
   "execution_count": 89,
   "metadata": {},
   "outputs": [
    {
     "data": {
      "text/plain": [
       "<matplotlib.axes._subplots.AxesSubplot at 0x7f4fc3cf55d0>"
      ]
     },
     "execution_count": 89,
     "metadata": {},
     "output_type": "execute_result"
    },
    {
     "data": {
      "image/png": "[encoded data removed]",
      "text/plain": [
       "<Figure size 432x288 with 1 Axes>"
      ]
     },
     "metadata": {
      "needs_background": "light"
     },
     "output_type": "display_data"
    }
   ],
   "source": [
    "sns.boxplot(x=\"transmission\", y=\"price\", data=vehicles_filt.query('type==\"sedan\"'))"
   ]
  },
  {
   "cell_type": "code",
   "execution_count": 90,
   "metadata": {},
   "outputs": [
    {
     "data": {
      "text/plain": [
       "<matplotlib.axes._subplots.AxesSubplot at 0x7f4fc3c92550>"
      ]
     },
     "execution_count": 90,
     "metadata": {},
     "output_type": "execute_result"
    },
    {
     "data": {
      "image/png": "[encoded data removed]",
      "text/plain": [
       "<Figure size 432x288 with 1 Axes>"
      ]
     },
     "metadata": {
      "needs_background": "light"
     },
     "output_type": "display_data"
    }
   ],
   "source": [
    "sns.boxplot(x=\"transmission\", y=\"price\", data=vehicles_filt.query('type==\"SUV\"'))"
   ]
  },
  {
   "cell_type": "markdown",
   "metadata": {},
   "source": [
    "How the type of transmission is affecting the price depends on the type of the car. We can assume those car models that are meant for a city more often have an automatic transmission, it's more suitable and therefore more pricey. The cars for trips outside the city seem to be more valuable with the manual transmission."
   ]
  },
  {
   "cell_type": "markdown",
   "metadata": {},
   "source": [
    "#### Color"
   ]
  },
  {
   "cell_type": "code",
   "execution_count": 91,
   "metadata": {},
   "outputs": [
    {
     "data": {
      "text/plain": [
       "<matplotlib.axes._subplots.AxesSubplot at 0x7f4fc3bb2750>"
      ]
     },
     "execution_count": 91,
     "metadata": {},
     "output_type": "execute_result"
    },
    {
     "data": {
      "image/png": "[encoded data removed]",
      "text/plain": [
       "<Figure size 432x288 with 1 Axes>"
      ]
     },
     "metadata": {
      "needs_background": "light"
     },
     "output_type": "display_data"
    }
   ],
   "source": [
    "sns.boxplot(x=\"paint_color\", y=\"price\", data=vehicles_filt.query('type==\"sedan\"'))"
   ]
  },
  {
   "cell_type": "code",
   "execution_count": 92,
   "metadata": {},
   "outputs": [
    {
     "name": "stdout",
     "output_type": "stream",
     "text": [
      "              count          mean\n",
      "paint_color                      \n",
      "orange          9.0  10593.888889\n",
      "black        1761.0   7531.863714\n",
      "white        1498.0   7439.207610\n",
      "grey         1617.0   7065.575758\n",
      "red           937.0   6973.792956\n",
      "other        2171.0   6928.154307\n",
      "silver       2039.0   6841.288377\n",
      "blue         1221.0   6563.214578\n",
      "custom        298.0   6450.855705\n",
      "purple         24.0   5990.500000\n",
      "brown         257.0   5211.575875\n",
      "yellow         21.0   5087.238095\n",
      "green         205.0   4726.234146\n"
     ]
    },
    {
     "data": {
      "text/plain": [
       "<matplotlib.axes._subplots.AxesSubplot at 0x7f4fc3a42e10>"
      ]
     },
     "execution_count": 92,
     "metadata": {},
     "output_type": "execute_result"
    },
    {
     "data": {
      "image/png": "[encoded data removed]",
      "text/plain": [
       "<Figure size 432x288 with 1 Axes>"
      ]
     },
     "metadata": {
      "needs_background": "light"
     },
     "output_type": "display_data"
    }
   ],
   "source": [
    "sedan_color=vehicles_filt.loc[vehicles_filt['type']=='sedan'].pivot_table(index='paint_color',values='price',aggfunc=('count','mean'))\n",
    "print(sedan_color.sort_values(by='mean',ascending=False))\n",
    "sedan_color['mean'].plot(kind='bar')"
   ]
  },
  {
   "cell_type": "code",
   "execution_count": 93,
   "metadata": {},
   "outputs": [
    {
     "data": {
      "text/plain": [
       "<matplotlib.axes._subplots.AxesSubplot at 0x7f4fc39d1b10>"
      ]
     },
     "execution_count": 93,
     "metadata": {},
     "output_type": "execute_result"
    },
    {
     "data": {
      "image/png": "[encoded data removed]",
      "text/plain": [
       "<Figure size 432x288 with 1 Axes>"
      ]
     },
     "metadata": {
      "needs_background": "light"
     },
     "output_type": "display_data"
    }
   ],
   "source": [
    "sns.boxplot(x=\"paint_color\", y=\"price\", data=vehicles_filt.query('type==\"SUV\"'))"
   ]
  },
  {
   "cell_type": "code",
   "execution_count": 94,
   "metadata": {},
   "outputs": [
    {
     "name": "stdout",
     "output_type": "stream",
     "text": [
      "              count          mean\n",
      "paint_color                      \n",
      "orange         81.0  15041.222222\n",
      "yellow         45.0  14218.800000\n",
      "black        2113.0  12093.616659\n",
      "white        1885.0  11470.905040\n",
      "other        2162.0  10557.343663\n",
      "grey         1155.0  10420.601732\n",
      "silver       1539.0   9902.296296\n",
      "red           880.0   9632.638636\n",
      "custom        302.0   9290.519868\n",
      "brown         357.0   8696.386555\n",
      "blue         1025.0   8480.412683\n",
      "green         427.0   8010.971897\n",
      "purple         39.0   7128.717949\n"
     ]
    },
    {
     "data": {
      "text/plain": [
       "<matplotlib.axes._subplots.AxesSubplot at 0x7f4fc384b310>"
      ]
     },
     "execution_count": 94,
     "metadata": {},
     "output_type": "execute_result"
    },
    {
     "data": {
      "image/png": "[encoded data removed]",
      "text/plain": [
       "<Figure size 432x288 with 1 Axes>"
      ]
     },
     "metadata": {
      "needs_background": "light"
     },
     "output_type": "display_data"
    }
   ],
   "source": [
    "suv_color=vehicles_filt.loc[vehicles_filt['type']=='SUV'].pivot_table(index='paint_color',values='price',aggfunc=('count','mean'))\n",
    "print(suv_color.sort_values(by='mean',ascending=False))\n",
    "suv_color['mean'].plot(kind='bar')"
   ]
  },
  {
   "cell_type": "markdown",
   "metadata": {},
   "source": [
    "For some reason, orange cars are the most expensive ones. However, the deviation in prices between cars of different colours is not very significant."
   ]
  },
  {
   "cell_type": "markdown",
   "metadata": {},
   "source": [
    "### Conclusion"
   ]
  },
  {
   "cell_type": "markdown",
   "metadata": {},
   "source": [
    "1. We investigated outliers in our data for the following parameters: price, vehicle's age when the ad was placed, mileage, number of cylinders, and condition. We defined values that affected the readability of our histograms and filtered data accordingly. Looking at filtered data we could see the most common characteristics for the cars in ads.\n",
    "2. We draw a conclusion of the typical lifetime of an ad.\n",
    "3. Using data about two the most popular types of vehicles we found out the factors that impact the price most among age, mileage, condition, transmission type, and color. "
   ]
  },
  {
   "cell_type": "markdown",
   "metadata": {},
   "source": [
    "## Overall conclusion"
   ]
  },
  {
   "cell_type": "markdown",
   "metadata": {},
   "source": [
    "In this project, we made a research on the free advertisements for vehicles that were published on a website. The data consisted of the information given in the ad. After the preprocessing of the data, getting rid of the missing values, we were able to calculate new parameters that were crucial for our research, such as car age.\n",
    "We investigated correlations between the price and different parameters that were included in the ads.\n",
    "Based on our research we can tell that car age affects the price of the car the most, it is closely followed by the mileage.\n",
    "Other parameters are less universal: the transmission would slightly affect the price depending on the type of the car, and the colour has almost no impact on the price."
   ]
  }
 ],
 "metadata": {
  "ExecuteTimeLog": [
   {
    "duration": 414,
    "start_time": "2021-10-22T17:00:57.950Z"
   },
   {
    "duration": 767,
    "start_time": "2021-10-22T17:01:07.886Z"
   },
   {
    "duration": 99,
    "start_time": "2021-10-22T17:01:30.495Z"
   },
   {
    "duration": 381,
    "start_time": "2021-10-22T17:02:35.384Z"
   },
   {
    "duration": 20,
    "start_time": "2021-10-22T17:02:43.222Z"
   },
   {
    "duration": 9,
    "start_time": "2021-10-22T20:45:05.537Z"
   },
   {
    "duration": 18,
    "start_time": "2021-10-22T21:05:34.394Z"
   },
   {
    "duration": 16,
    "start_time": "2021-10-22T21:05:49.599Z"
   },
   {
    "duration": 19,
    "start_time": "2021-10-22T21:06:20.319Z"
   },
   {
    "duration": 368,
    "start_time": "2021-10-22T21:07:00.835Z"
   },
   {
    "duration": 939,
    "start_time": "2021-10-22T21:07:30.873Z"
   },
   {
    "duration": 6,
    "start_time": "2021-10-22T21:07:49.657Z"
   },
   {
    "duration": 7,
    "start_time": "2021-10-22T21:08:05.884Z"
   },
   {
    "duration": 377,
    "start_time": "2021-10-22T21:08:30.061Z"
   },
   {
    "duration": 7,
    "start_time": "2021-10-22T21:08:50.153Z"
   },
   {
    "duration": 367,
    "start_time": "2021-10-22T21:09:10.526Z"
   },
   {
    "duration": 6,
    "start_time": "2021-10-22T21:09:17.885Z"
   },
   {
    "duration": 26,
    "start_time": "2021-10-22T21:10:17.901Z"
   },
   {
    "duration": 18,
    "start_time": "2021-10-22T21:33:02.232Z"
   },
   {
    "duration": 8,
    "start_time": "2021-10-22T21:38:44.015Z"
   },
   {
    "duration": 19,
    "start_time": "2021-10-22T21:39:17.880Z"
   },
   {
    "duration": 399,
    "start_time": "2021-10-23T07:40:28.571Z"
   },
   {
    "duration": 723,
    "start_time": "2021-10-23T07:40:35.351Z"
   },
   {
    "duration": 93,
    "start_time": "2021-10-23T07:40:36.980Z"
   },
   {
    "duration": 22,
    "start_time": "2021-10-23T07:40:38.270Z"
   },
   {
    "duration": 10,
    "start_time": "2021-10-23T07:40:39.208Z"
   },
   {
    "duration": 8,
    "start_time": "2021-10-23T07:40:43.219Z"
   },
   {
    "duration": 19,
    "start_time": "2021-10-23T07:40:44.302Z"
   },
   {
    "duration": 20,
    "start_time": "2021-10-23T07:40:46.336Z"
   },
   {
    "duration": 2855,
    "start_time": "2021-10-23T07:40:50.679Z"
   },
   {
    "duration": 2728,
    "start_time": "2021-10-23T07:41:03.211Z"
   },
   {
    "duration": 2784,
    "start_time": "2021-10-23T07:41:20.795Z"
   },
   {
    "duration": 2689,
    "start_time": "2021-10-23T07:42:06.105Z"
   },
   {
    "duration": 2459,
    "start_time": "2021-10-23T07:43:21.295Z"
   },
   {
    "duration": 2464,
    "start_time": "2021-10-23T07:43:30.397Z"
   },
   {
    "duration": 2594,
    "start_time": "2021-10-23T07:44:58.040Z"
   },
   {
    "duration": 421,
    "start_time": "2021-10-23T08:04:27.589Z"
   },
   {
    "duration": 3,
    "start_time": "2021-10-23T08:04:37.630Z"
   },
   {
    "duration": 92,
    "start_time": "2021-10-23T08:04:37.635Z"
   },
   {
    "duration": 19,
    "start_time": "2021-10-23T08:04:37.730Z"
   },
   {
    "duration": 408,
    "start_time": "2021-10-23T08:04:37.751Z"
   },
   {
    "duration": 233,
    "start_time": "2021-10-23T08:04:37.927Z"
   },
   {
    "duration": 234,
    "start_time": "2021-10-23T08:04:37.928Z"
   },
   {
    "duration": 124,
    "start_time": "2021-10-23T08:04:38.038Z"
   },
   {
    "duration": 125,
    "start_time": "2021-10-23T08:04:38.039Z"
   },
   {
    "duration": 10,
    "start_time": "2021-10-23T08:05:13.286Z"
   },
   {
    "duration": 16,
    "start_time": "2021-10-23T08:06:12.677Z"
   },
   {
    "duration": 8,
    "start_time": "2021-10-23T08:06:46.325Z"
   },
   {
    "duration": 21,
    "start_time": "2021-10-23T08:06:47.881Z"
   },
   {
    "duration": 341,
    "start_time": "2021-10-23T13:26:25.570Z"
   },
   {
    "duration": 859,
    "start_time": "2021-10-23T13:26:29.361Z"
   },
   {
    "duration": 121,
    "start_time": "2021-10-23T13:26:30.222Z"
   },
   {
    "duration": 26,
    "start_time": "2021-10-23T13:26:30.645Z"
   },
   {
    "duration": 15,
    "start_time": "2021-10-23T13:26:31.786Z"
   },
   {
    "duration": 14,
    "start_time": "2021-10-23T13:26:37.049Z"
   },
   {
    "duration": 24,
    "start_time": "2021-10-23T13:28:52.750Z"
   },
   {
    "duration": 34,
    "start_time": "2021-10-23T13:29:23.460Z"
   },
   {
    "duration": 21,
    "start_time": "2021-10-23T13:30:57.939Z"
   },
   {
    "duration": 7,
    "start_time": "2021-10-23T14:11:24.352Z"
   },
   {
    "duration": 84,
    "start_time": "2021-10-23T14:15:25.824Z"
   },
   {
    "duration": 66,
    "start_time": "2021-10-23T14:15:31.875Z"
   },
   {
    "duration": 2653,
    "start_time": "2021-10-23T14:15:38.745Z"
   },
   {
    "duration": 10,
    "start_time": "2021-10-23T14:22:06.207Z"
   },
   {
    "duration": 16,
    "start_time": "2021-10-23T14:22:22.327Z"
   },
   {
    "duration": 323,
    "start_time": "2021-10-23T14:24:00.728Z"
   },
   {
    "duration": 21,
    "start_time": "2021-10-23T14:24:18.006Z"
   },
   {
    "duration": 24,
    "start_time": "2021-10-23T14:24:42.157Z"
   },
   {
    "duration": 33,
    "start_time": "2021-10-23T14:25:41.711Z"
   },
   {
    "duration": 70,
    "start_time": "2021-10-23T15:10:24.042Z"
   },
   {
    "duration": 26,
    "start_time": "2021-10-23T16:28:35.639Z"
   },
   {
    "duration": 29,
    "start_time": "2021-10-23T16:29:06.265Z"
   },
   {
    "duration": 21,
    "start_time": "2021-10-23T16:29:30.788Z"
   },
   {
    "duration": 10,
    "start_time": "2021-10-23T16:32:07.846Z"
   },
   {
    "duration": 85,
    "start_time": "2021-10-23T16:34:29.899Z"
   },
   {
    "duration": 9,
    "start_time": "2021-10-23T16:37:13.255Z"
   },
   {
    "duration": 264,
    "start_time": "2021-10-23T16:38:56.281Z"
   },
   {
    "duration": 33,
    "start_time": "2021-10-23T16:39:03.432Z"
   },
   {
    "duration": 278,
    "start_time": "2021-10-23T16:51:58.204Z"
   },
   {
    "duration": 26,
    "start_time": "2021-10-23T16:52:24.757Z"
   },
   {
    "duration": 740,
    "start_time": "2021-10-24T12:47:12.443Z"
   },
   {
    "duration": 94,
    "start_time": "2021-10-24T12:47:13.184Z"
   },
   {
    "duration": 48,
    "start_time": "2021-10-24T12:47:13.281Z"
   },
   {
    "duration": 32,
    "start_time": "2021-10-24T12:47:13.332Z"
   },
   {
    "duration": 25,
    "start_time": "2021-10-24T12:47:13.366Z"
   },
   {
    "duration": 7,
    "start_time": "2021-10-24T12:47:13.393Z"
   },
   {
    "duration": 48,
    "start_time": "2021-10-24T12:47:13.402Z"
   },
   {
    "duration": 14,
    "start_time": "2021-10-24T12:47:13.452Z"
   },
   {
    "duration": 17,
    "start_time": "2021-10-24T12:47:13.468Z"
   },
   {
    "duration": 394,
    "start_time": "2021-10-24T12:49:37.546Z"
   },
   {
    "duration": 24,
    "start_time": "2021-10-24T12:56:36.488Z"
   },
   {
    "duration": 333,
    "start_time": "2021-10-24T13:09:21.268Z"
   },
   {
    "duration": 292,
    "start_time": "2021-10-24T13:28:26.162Z"
   },
   {
    "duration": 107,
    "start_time": "2021-10-24T13:29:04.834Z"
   },
   {
    "duration": 113,
    "start_time": "2021-10-24T13:29:41.858Z"
   },
   {
    "duration": 106,
    "start_time": "2021-10-24T13:29:57.119Z"
   },
   {
    "duration": 104,
    "start_time": "2021-10-24T13:30:41.810Z"
   },
   {
    "duration": 3,
    "start_time": "2021-10-24T13:30:51.799Z"
   },
   {
    "duration": 133,
    "start_time": "2021-10-24T13:30:52.472Z"
   },
   {
    "duration": 57,
    "start_time": "2021-10-24T13:30:54.032Z"
   },
   {
    "duration": 16,
    "start_time": "2021-10-24T13:30:55.006Z"
   },
   {
    "duration": 34,
    "start_time": "2021-10-24T13:30:58.530Z"
   },
   {
    "duration": 9,
    "start_time": "2021-10-24T13:31:01.009Z"
   },
   {
    "duration": 20,
    "start_time": "2021-10-24T13:31:02.794Z"
   },
   {
    "duration": 8,
    "start_time": "2021-10-24T13:31:04.765Z"
   },
   {
    "duration": 26,
    "start_time": "2021-10-24T13:31:06.156Z"
   },
   {
    "duration": 455,
    "start_time": "2021-10-24T13:31:08.893Z"
   },
   {
    "duration": 116,
    "start_time": "2021-10-24T13:31:11.092Z"
   },
   {
    "duration": 305,
    "start_time": "2021-10-24T13:31:36.886Z"
   },
   {
    "duration": 435,
    "start_time": "2021-10-24T13:31:55.593Z"
   },
   {
    "duration": 30,
    "start_time": "2021-10-24T13:32:06.372Z"
   },
   {
    "duration": 354,
    "start_time": "2021-10-24T13:33:21.072Z"
   },
   {
    "duration": 93,
    "start_time": "2021-10-24T13:39:16.835Z"
   },
   {
    "duration": 178,
    "start_time": "2021-10-24T13:39:22.458Z"
   },
   {
    "duration": 104,
    "start_time": "2021-10-24T13:39:53.748Z"
   },
   {
    "duration": 78,
    "start_time": "2021-10-24T13:40:34.194Z"
   },
   {
    "duration": 445,
    "start_time": "2021-10-24T13:40:57.345Z"
   },
   {
    "duration": 169,
    "start_time": "2021-10-24T13:41:13.698Z"
   },
   {
    "duration": 104,
    "start_time": "2021-10-24T13:42:05.640Z"
   },
   {
    "duration": 12,
    "start_time": "2021-10-24T13:51:57.766Z"
   },
   {
    "duration": 5,
    "start_time": "2021-10-24T13:52:18.026Z"
   },
   {
    "duration": 11,
    "start_time": "2021-10-24T13:52:29.269Z"
   },
   {
    "duration": 11,
    "start_time": "2021-10-24T13:55:07.923Z"
   },
   {
    "duration": 306,
    "start_time": "2021-10-24T13:55:23.865Z"
   },
   {
    "duration": 10,
    "start_time": "2021-10-24T13:55:36.320Z"
   },
   {
    "duration": 30,
    "start_time": "2021-10-24T14:33:16.277Z"
   },
   {
    "duration": 287,
    "start_time": "2021-10-24T14:48:00.854Z"
   },
   {
    "duration": 373,
    "start_time": "2021-10-24T14:48:26.853Z"
   },
   {
    "duration": 1966,
    "start_time": "2021-10-24T14:56:54.576Z"
   },
   {
    "duration": 2671,
    "start_time": "2021-10-24T14:57:16.077Z"
   },
   {
    "duration": 30,
    "start_time": "2021-10-24T14:58:02.436Z"
   },
   {
    "duration": 39,
    "start_time": "2021-10-24T14:58:54.174Z"
   },
   {
    "duration": 293,
    "start_time": "2021-10-24T17:08:56.835Z"
   },
   {
    "duration": 898,
    "start_time": "2021-10-24T17:09:18.971Z"
   },
   {
    "duration": 130,
    "start_time": "2021-10-24T17:09:19.872Z"
   },
   {
    "duration": 89,
    "start_time": "2021-10-24T17:09:20.005Z"
   },
   {
    "duration": 35,
    "start_time": "2021-10-24T17:09:20.097Z"
   },
   {
    "duration": 50,
    "start_time": "2021-10-24T17:09:20.135Z"
   },
   {
    "duration": 12,
    "start_time": "2021-10-24T17:09:20.188Z"
   },
   {
    "duration": 66,
    "start_time": "2021-10-24T17:09:20.203Z"
   },
   {
    "duration": 15,
    "start_time": "2021-10-24T17:09:20.276Z"
   },
   {
    "duration": 41,
    "start_time": "2021-10-24T17:09:20.294Z"
   },
   {
    "duration": 35,
    "start_time": "2021-10-24T17:09:20.340Z"
   },
   {
    "duration": 719,
    "start_time": "2021-10-24T17:09:20.378Z"
   },
   {
    "duration": 210,
    "start_time": "2021-10-24T17:09:21.100Z"
   },
   {
    "duration": 54,
    "start_time": "2021-10-24T17:09:21.313Z"
   },
   {
    "duration": 84,
    "start_time": "2021-10-24T17:09:21.370Z"
   },
   {
    "duration": 282,
    "start_time": "2021-10-24T17:09:26.838Z"
   },
   {
    "duration": 71,
    "start_time": "2021-10-24T17:10:02.129Z"
   },
   {
    "duration": 56,
    "start_time": "2021-10-24T17:10:43.053Z"
   },
   {
    "duration": 58,
    "start_time": "2021-10-24T17:11:04.744Z"
   },
   {
    "duration": 62,
    "start_time": "2021-10-24T17:12:10.514Z"
   },
   {
    "duration": 56,
    "start_time": "2021-10-24T17:25:11.551Z"
   },
   {
    "duration": 65,
    "start_time": "2021-10-24T17:41:10.152Z"
   },
   {
    "duration": 56,
    "start_time": "2021-10-24T17:48:06.934Z"
   },
   {
    "duration": 286,
    "start_time": "2021-10-25T07:52:29.792Z"
   },
   {
    "duration": 848,
    "start_time": "2021-10-25T07:52:36.202Z"
   },
   {
    "duration": 119,
    "start_time": "2021-10-25T07:52:37.053Z"
   },
   {
    "duration": 81,
    "start_time": "2021-10-25T07:52:37.175Z"
   },
   {
    "duration": 22,
    "start_time": "2021-10-25T07:52:37.258Z"
   },
   {
    "duration": 49,
    "start_time": "2021-10-25T07:52:37.282Z"
   },
   {
    "duration": 14,
    "start_time": "2021-10-25T07:52:37.333Z"
   },
   {
    "duration": 26,
    "start_time": "2021-10-25T07:52:37.350Z"
   },
   {
    "duration": 10,
    "start_time": "2021-10-25T07:52:37.380Z"
   },
   {
    "duration": 43,
    "start_time": "2021-10-25T07:52:37.392Z"
   },
   {
    "duration": 25,
    "start_time": "2021-10-25T07:52:37.437Z"
   },
   {
    "duration": 635,
    "start_time": "2021-10-25T07:52:37.465Z"
   },
   {
    "duration": 170,
    "start_time": "2021-10-25T07:52:38.102Z"
   },
   {
    "duration": 37,
    "start_time": "2021-10-25T07:52:38.274Z"
   },
   {
    "duration": 62,
    "start_time": "2021-10-25T07:52:38.330Z"
   },
   {
    "duration": 91,
    "start_time": "2021-10-25T07:52:38.394Z"
   },
   {
    "duration": 66,
    "start_time": "2021-10-25T07:52:50.800Z"
   },
   {
    "duration": 68,
    "start_time": "2021-10-25T07:56:18.847Z"
   },
   {
    "duration": 57,
    "start_time": "2021-10-25T07:56:28.502Z"
   },
   {
    "duration": 3,
    "start_time": "2021-10-25T07:56:37.173Z"
   },
   {
    "duration": 144,
    "start_time": "2021-10-25T07:56:37.179Z"
   },
   {
    "duration": 71,
    "start_time": "2021-10-25T07:56:37.329Z"
   },
   {
    "duration": 34,
    "start_time": "2021-10-25T07:56:37.402Z"
   },
   {
    "duration": 30,
    "start_time": "2021-10-25T07:56:37.439Z"
   },
   {
    "duration": 9,
    "start_time": "2021-10-25T07:56:37.472Z"
   },
   {
    "duration": 58,
    "start_time": "2021-10-25T07:56:37.484Z"
   },
   {
    "duration": 10,
    "start_time": "2021-10-25T07:56:37.545Z"
   },
   {
    "duration": 13,
    "start_time": "2021-10-25T07:56:37.558Z"
   },
   {
    "duration": 58,
    "start_time": "2021-10-25T07:56:37.573Z"
   },
   {
    "duration": 604,
    "start_time": "2021-10-25T07:56:37.634Z"
   },
   {
    "duration": 177,
    "start_time": "2021-10-25T07:56:38.240Z"
   },
   {
    "duration": 59,
    "start_time": "2021-10-25T07:56:38.419Z"
   },
   {
    "duration": 88,
    "start_time": "2021-10-25T07:56:38.481Z"
   },
   {
    "duration": 61,
    "start_time": "2021-10-25T07:56:43.068Z"
   },
   {
    "duration": 55,
    "start_time": "2021-10-25T08:01:31.258Z"
   },
   {
    "duration": 68,
    "start_time": "2021-10-25T08:03:03.951Z"
   },
   {
    "duration": 74,
    "start_time": "2021-10-25T08:03:56.648Z"
   },
   {
    "duration": 271,
    "start_time": "2021-10-25T08:15:18.826Z"
   },
   {
    "duration": 70,
    "start_time": "2021-10-25T08:15:25.212Z"
   },
   {
    "duration": 65,
    "start_time": "2021-10-25T08:42:14.709Z"
   },
   {
    "duration": 4,
    "start_time": "2021-10-25T08:42:25.569Z"
   },
   {
    "duration": 122,
    "start_time": "2021-10-25T08:42:25.575Z"
   },
   {
    "duration": 74,
    "start_time": "2021-10-25T08:42:25.700Z"
   },
   {
    "duration": 21,
    "start_time": "2021-10-25T08:42:25.777Z"
   },
   {
    "duration": 50,
    "start_time": "2021-10-25T08:42:25.800Z"
   },
   {
    "duration": 9,
    "start_time": "2021-10-25T08:42:25.852Z"
   },
   {
    "duration": 29,
    "start_time": "2021-10-25T08:42:25.863Z"
   },
   {
    "duration": 35,
    "start_time": "2021-10-25T08:42:25.895Z"
   },
   {
    "duration": 12,
    "start_time": "2021-10-25T08:42:25.933Z"
   },
   {
    "duration": 25,
    "start_time": "2021-10-25T08:42:25.948Z"
   },
   {
    "duration": 628,
    "start_time": "2021-10-25T08:42:25.975Z"
   },
   {
    "duration": 166,
    "start_time": "2021-10-25T08:42:26.605Z"
   },
   {
    "duration": 36,
    "start_time": "2021-10-25T08:42:26.774Z"
   },
   {
    "duration": 51,
    "start_time": "2021-10-25T08:42:26.830Z"
   },
   {
    "duration": 68,
    "start_time": "2021-10-25T08:42:35.459Z"
   },
   {
    "duration": 69,
    "start_time": "2021-10-25T08:43:00.747Z"
   },
   {
    "duration": 71,
    "start_time": "2021-10-25T08:44:26.058Z"
   },
   {
    "duration": 4,
    "start_time": "2021-10-25T09:16:42.220Z"
   },
   {
    "duration": 127,
    "start_time": "2021-10-25T09:16:42.226Z"
   },
   {
    "duration": 87,
    "start_time": "2021-10-25T09:16:42.355Z"
   },
   {
    "duration": 21,
    "start_time": "2021-10-25T09:16:42.445Z"
   },
   {
    "duration": 37,
    "start_time": "2021-10-25T09:16:42.468Z"
   },
   {
    "duration": 30,
    "start_time": "2021-10-25T09:16:42.507Z"
   },
   {
    "duration": 29,
    "start_time": "2021-10-25T09:16:42.539Z"
   },
   {
    "duration": 10,
    "start_time": "2021-10-25T09:16:42.571Z"
   },
   {
    "duration": 3,
    "start_time": "2021-10-25T09:16:42.584Z"
   },
   {
    "duration": 63,
    "start_time": "2021-10-25T09:16:42.589Z"
   },
   {
    "duration": 611,
    "start_time": "2021-10-25T09:16:42.654Z"
   },
   {
    "duration": 171,
    "start_time": "2021-10-25T09:16:43.267Z"
   },
   {
    "duration": 36,
    "start_time": "2021-10-25T09:16:43.440Z"
   },
   {
    "duration": 77,
    "start_time": "2021-10-25T09:16:43.479Z"
   },
   {
    "duration": 84,
    "start_time": "2021-10-25T09:16:43.558Z"
   },
   {
    "duration": 23,
    "start_time": "2021-10-25T09:16:49.760Z"
   },
   {
    "duration": 34,
    "start_time": "2021-10-25T09:17:17.260Z"
   },
   {
    "duration": 45,
    "start_time": "2021-10-25T09:17:33.859Z"
   },
   {
    "duration": 32,
    "start_time": "2021-10-25T09:18:05.636Z"
   },
   {
    "duration": 4,
    "start_time": "2021-10-25T09:21:45.122Z"
   },
   {
    "duration": 116,
    "start_time": "2021-10-25T09:21:46.159Z"
   },
   {
    "duration": 71,
    "start_time": "2021-10-25T09:21:49.262Z"
   },
   {
    "duration": 22,
    "start_time": "2021-10-25T09:21:56.142Z"
   },
   {
    "duration": 31,
    "start_time": "2021-10-25T09:22:01.022Z"
   },
   {
    "duration": 12,
    "start_time": "2021-10-25T09:22:21.734Z"
   },
   {
    "duration": 28,
    "start_time": "2021-10-25T09:22:24.166Z"
   },
   {
    "duration": 11,
    "start_time": "2021-10-25T09:22:39.998Z"
   },
   {
    "duration": 3,
    "start_time": "2021-10-25T09:22:50.237Z"
   },
   {
    "duration": 27,
    "start_time": "2021-10-25T09:22:54.206Z"
   },
   {
    "duration": 579,
    "start_time": "2021-10-25T09:23:09.162Z"
   },
   {
    "duration": 161,
    "start_time": "2021-10-25T09:23:14.880Z"
   },
   {
    "duration": 39,
    "start_time": "2021-10-25T09:23:20.313Z"
   },
   {
    "duration": 55,
    "start_time": "2021-10-25T09:23:36.053Z"
   },
   {
    "duration": 74,
    "start_time": "2021-10-25T09:24:11.644Z"
   },
   {
    "duration": 44,
    "start_time": "2021-10-25T09:27:26.130Z"
   },
   {
    "duration": 37,
    "start_time": "2021-10-25T09:31:39.918Z"
   },
   {
    "duration": 37,
    "start_time": "2021-10-25T09:32:04.046Z"
   },
   {
    "duration": 30,
    "start_time": "2021-10-25T09:35:21.347Z"
   },
   {
    "duration": 5,
    "start_time": "2021-10-25T09:38:10.058Z"
   },
   {
    "duration": 168,
    "start_time": "2021-10-25T09:38:10.067Z"
   },
   {
    "duration": 96,
    "start_time": "2021-10-25T09:38:10.239Z"
   },
   {
    "duration": 24,
    "start_time": "2021-10-25T09:38:10.339Z"
   },
   {
    "duration": 63,
    "start_time": "2021-10-25T09:38:10.366Z"
   },
   {
    "duration": 10,
    "start_time": "2021-10-25T09:38:10.432Z"
   },
   {
    "duration": 26,
    "start_time": "2021-10-25T09:38:10.445Z"
   },
   {
    "duration": 12,
    "start_time": "2021-10-25T09:38:10.475Z"
   },
   {
    "duration": 3,
    "start_time": "2021-10-25T09:38:10.529Z"
   },
   {
    "duration": 34,
    "start_time": "2021-10-25T09:38:10.535Z"
   },
   {
    "duration": 716,
    "start_time": "2021-10-25T09:38:10.572Z"
   },
   {
    "duration": 177,
    "start_time": "2021-10-25T09:38:11.292Z"
   },
   {
    "duration": 38,
    "start_time": "2021-10-25T09:38:11.472Z"
   },
   {
    "duration": 54,
    "start_time": "2021-10-25T09:38:11.530Z"
   },
   {
    "duration": 111,
    "start_time": "2021-10-25T09:38:11.587Z"
   },
   {
    "duration": 32,
    "start_time": "2021-10-25T09:38:16.472Z"
   },
   {
    "duration": 57,
    "start_time": "2021-10-25T09:45:41.090Z"
   },
   {
    "duration": 62,
    "start_time": "2021-10-25T09:53:58.090Z"
   },
   {
    "duration": 50,
    "start_time": "2021-10-25T09:54:24.570Z"
   },
   {
    "duration": 177,
    "start_time": "2021-10-25T09:57:41.416Z"
   },
   {
    "duration": 4,
    "start_time": "2021-10-25T09:58:13.743Z"
   },
   {
    "duration": 122,
    "start_time": "2021-10-25T09:58:13.749Z"
   },
   {
    "duration": 78,
    "start_time": "2021-10-25T09:58:13.873Z"
   },
   {
    "duration": 22,
    "start_time": "2021-10-25T09:58:13.953Z"
   },
   {
    "duration": 57,
    "start_time": "2021-10-25T09:58:13.977Z"
   },
   {
    "duration": 10,
    "start_time": "2021-10-25T09:58:14.036Z"
   },
   {
    "duration": 26,
    "start_time": "2021-10-25T09:58:14.048Z"
   },
   {
    "duration": 11,
    "start_time": "2021-10-25T09:58:14.078Z"
   },
   {
    "duration": 3,
    "start_time": "2021-10-25T09:58:14.130Z"
   },
   {
    "duration": 36,
    "start_time": "2021-10-25T09:58:14.136Z"
   },
   {
    "duration": 613,
    "start_time": "2021-10-25T09:58:14.175Z"
   },
   {
    "duration": 173,
    "start_time": "2021-10-25T09:58:14.791Z"
   },
   {
    "duration": 38,
    "start_time": "2021-10-25T09:58:14.967Z"
   },
   {
    "duration": 70,
    "start_time": "2021-10-25T09:58:15.008Z"
   },
   {
    "duration": 98,
    "start_time": "2021-10-25T09:58:15.080Z"
   },
   {
    "duration": 32,
    "start_time": "2021-10-25T09:58:15.180Z"
   },
   {
    "duration": 29,
    "start_time": "2021-10-25T09:58:42.454Z"
   },
   {
    "duration": 48,
    "start_time": "2021-10-25T10:06:49.566Z"
   },
   {
    "duration": 50,
    "start_time": "2021-10-25T10:08:38.636Z"
   },
   {
    "duration": 18,
    "start_time": "2021-10-25T10:20:37.858Z"
   },
   {
    "duration": 14,
    "start_time": "2021-10-25T10:21:00.442Z"
   },
   {
    "duration": 19,
    "start_time": "2021-10-25T10:21:53.200Z"
   },
   {
    "duration": 16,
    "start_time": "2021-10-25T10:21:59.850Z"
   },
   {
    "duration": 26,
    "start_time": "2021-10-25T10:22:39.593Z"
   },
   {
    "duration": 39,
    "start_time": "2021-10-25T10:22:45.804Z"
   },
   {
    "duration": 4,
    "start_time": "2021-10-25T10:41:02.320Z"
   },
   {
    "duration": 136,
    "start_time": "2021-10-25T10:41:02.327Z"
   },
   {
    "duration": 92,
    "start_time": "2021-10-25T10:41:02.466Z"
   },
   {
    "duration": 20,
    "start_time": "2021-10-25T10:41:02.561Z"
   },
   {
    "duration": 51,
    "start_time": "2021-10-25T10:41:02.583Z"
   },
   {
    "duration": 15,
    "start_time": "2021-10-25T10:41:02.637Z"
   },
   {
    "duration": 43,
    "start_time": "2021-10-25T10:41:02.655Z"
   },
   {
    "duration": 29,
    "start_time": "2021-10-25T10:41:02.704Z"
   },
   {
    "duration": 4,
    "start_time": "2021-10-25T10:41:02.736Z"
   },
   {
    "duration": 40,
    "start_time": "2021-10-25T10:41:02.743Z"
   },
   {
    "duration": 637,
    "start_time": "2021-10-25T10:41:02.787Z"
   },
   {
    "duration": 166,
    "start_time": "2021-10-25T10:41:03.429Z"
   },
   {
    "duration": 45,
    "start_time": "2021-10-25T10:41:03.598Z"
   },
   {
    "duration": 58,
    "start_time": "2021-10-25T10:41:03.646Z"
   },
   {
    "duration": 97,
    "start_time": "2021-10-25T10:41:03.706Z"
   },
   {
    "duration": 59,
    "start_time": "2021-10-25T10:41:03.806Z"
   },
   {
    "duration": 64,
    "start_time": "2021-10-25T10:41:07.976Z"
   },
   {
    "duration": 224,
    "start_time": "2021-10-25T10:41:35.839Z"
   },
   {
    "duration": 4,
    "start_time": "2021-10-25T10:42:48.999Z"
   },
   {
    "duration": 133,
    "start_time": "2021-10-25T10:42:49.006Z"
   },
   {
    "duration": 88,
    "start_time": "2021-10-25T10:42:49.141Z"
   },
   {
    "duration": 22,
    "start_time": "2021-10-25T10:42:49.231Z"
   },
   {
    "duration": 31,
    "start_time": "2021-10-25T10:42:49.255Z"
   },
   {
    "duration": 44,
    "start_time": "2021-10-25T10:42:49.288Z"
   },
   {
    "duration": 29,
    "start_time": "2021-10-25T10:42:49.335Z"
   },
   {
    "duration": 11,
    "start_time": "2021-10-25T10:42:49.369Z"
   },
   {
    "duration": 4,
    "start_time": "2021-10-25T10:42:49.383Z"
   },
   {
    "duration": 29,
    "start_time": "2021-10-25T10:42:49.428Z"
   },
   {
    "duration": 625,
    "start_time": "2021-10-25T10:42:49.460Z"
   },
   {
    "duration": 172,
    "start_time": "2021-10-25T10:42:50.088Z"
   },
   {
    "duration": 38,
    "start_time": "2021-10-25T10:42:50.263Z"
   },
   {
    "duration": 76,
    "start_time": "2021-10-25T10:42:50.303Z"
   },
   {
    "duration": 100,
    "start_time": "2021-10-25T10:42:50.382Z"
   },
   {
    "duration": 66,
    "start_time": "2021-10-25T10:42:50.486Z"
   },
   {
    "duration": 263,
    "start_time": "2021-10-25T10:42:53.774Z"
   },
   {
    "duration": 264,
    "start_time": "2021-10-25T10:43:37.534Z"
   },
   {
    "duration": 246,
    "start_time": "2021-10-25T11:03:13.565Z"
   },
   {
    "duration": 3,
    "start_time": "2021-10-25T11:03:24.161Z"
   },
   {
    "duration": 127,
    "start_time": "2021-10-25T11:03:24.167Z"
   },
   {
    "duration": 77,
    "start_time": "2021-10-25T11:03:24.297Z"
   },
   {
    "duration": 21,
    "start_time": "2021-10-25T11:03:24.377Z"
   },
   {
    "duration": 47,
    "start_time": "2021-10-25T11:03:24.401Z"
   },
   {
    "duration": 14,
    "start_time": "2021-10-25T11:03:24.450Z"
   },
   {
    "duration": 29,
    "start_time": "2021-10-25T11:03:24.466Z"
   },
   {
    "duration": 37,
    "start_time": "2021-10-25T11:03:24.499Z"
   },
   {
    "duration": 4,
    "start_time": "2021-10-25T11:03:24.538Z"
   },
   {
    "duration": 31,
    "start_time": "2021-10-25T11:03:24.544Z"
   },
   {
    "duration": 729,
    "start_time": "2021-10-25T11:03:24.578Z"
   },
   {
    "duration": 170,
    "start_time": "2021-10-25T11:03:25.310Z"
   },
   {
    "duration": 56,
    "start_time": "2021-10-25T11:03:25.482Z"
   },
   {
    "duration": 54,
    "start_time": "2021-10-25T11:03:25.540Z"
   },
   {
    "duration": 98,
    "start_time": "2021-10-25T11:03:25.597Z"
   },
   {
    "duration": 58,
    "start_time": "2021-10-25T11:03:25.697Z"
   },
   {
    "duration": 261,
    "start_time": "2021-10-25T11:05:02.260Z"
   },
   {
    "duration": 245,
    "start_time": "2021-10-25T11:08:54.032Z"
   },
   {
    "duration": 246,
    "start_time": "2021-10-25T11:09:37.823Z"
   },
   {
    "duration": 360,
    "start_time": "2021-10-25T11:18:39.360Z"
   },
   {
    "duration": 3,
    "start_time": "2021-10-25T11:18:47.214Z"
   },
   {
    "duration": 125,
    "start_time": "2021-10-25T11:18:47.219Z"
   },
   {
    "duration": 82,
    "start_time": "2021-10-25T11:18:47.347Z"
   },
   {
    "duration": 20,
    "start_time": "2021-10-25T11:18:47.432Z"
   },
   {
    "duration": 32,
    "start_time": "2021-10-25T11:18:47.454Z"
   },
   {
    "duration": 42,
    "start_time": "2021-10-25T11:18:47.489Z"
   },
   {
    "duration": 28,
    "start_time": "2021-10-25T11:18:47.534Z"
   },
   {
    "duration": 11,
    "start_time": "2021-10-25T11:18:47.568Z"
   },
   {
    "duration": 3,
    "start_time": "2021-10-25T11:18:47.583Z"
   },
   {
    "duration": 28,
    "start_time": "2021-10-25T11:18:47.630Z"
   },
   {
    "duration": 625,
    "start_time": "2021-10-25T11:18:47.661Z"
   },
   {
    "duration": 172,
    "start_time": "2021-10-25T11:18:48.289Z"
   },
   {
    "duration": 37,
    "start_time": "2021-10-25T11:18:48.463Z"
   },
   {
    "duration": 72,
    "start_time": "2021-10-25T11:18:48.502Z"
   },
   {
    "duration": 83,
    "start_time": "2021-10-25T11:18:48.576Z"
   },
   {
    "duration": 46,
    "start_time": "2021-10-25T11:18:48.662Z"
   },
   {
    "duration": 387,
    "start_time": "2021-10-25T11:18:52.174Z"
   },
   {
    "duration": 202,
    "start_time": "2021-10-25T11:19:20.934Z"
   },
   {
    "duration": 193,
    "start_time": "2021-10-25T11:20:07.014Z"
   },
   {
    "duration": 198,
    "start_time": "2021-10-25T11:20:23.237Z"
   },
   {
    "duration": 198,
    "start_time": "2021-10-25T11:21:25.780Z"
   },
   {
    "duration": 197,
    "start_time": "2021-10-25T11:21:39.023Z"
   },
   {
    "duration": 217,
    "start_time": "2021-10-25T11:27:48.318Z"
   },
   {
    "duration": 79,
    "start_time": "2021-10-25T11:28:36.869Z"
   },
   {
    "duration": 208,
    "start_time": "2021-10-25T11:28:45.029Z"
   },
   {
    "duration": 370,
    "start_time": "2021-10-25T11:29:59.917Z"
   },
   {
    "duration": 213,
    "start_time": "2021-10-25T11:57:09.885Z"
   },
   {
    "duration": 414,
    "start_time": "2021-10-25T12:07:33.979Z"
   },
   {
    "duration": 316,
    "start_time": "2021-10-25T12:07:49.347Z"
   },
   {
    "duration": 4,
    "start_time": "2021-10-25T12:13:14.045Z"
   },
   {
    "duration": 121,
    "start_time": "2021-10-25T12:13:14.051Z"
   },
   {
    "duration": 89,
    "start_time": "2021-10-25T12:13:14.175Z"
   },
   {
    "duration": 22,
    "start_time": "2021-10-25T12:13:14.267Z"
   },
   {
    "duration": 48,
    "start_time": "2021-10-25T12:13:14.291Z"
   },
   {
    "duration": 9,
    "start_time": "2021-10-25T12:13:14.341Z"
   },
   {
    "duration": 26,
    "start_time": "2021-10-25T12:13:14.352Z"
   },
   {
    "duration": 47,
    "start_time": "2021-10-25T12:13:14.382Z"
   },
   {
    "duration": 3,
    "start_time": "2021-10-25T12:13:14.432Z"
   },
   {
    "duration": 34,
    "start_time": "2021-10-25T12:13:14.437Z"
   },
   {
    "duration": 621,
    "start_time": "2021-10-25T12:13:14.474Z"
   },
   {
    "duration": 173,
    "start_time": "2021-10-25T12:13:15.098Z"
   },
   {
    "duration": 36,
    "start_time": "2021-10-25T12:13:15.274Z"
   },
   {
    "duration": 51,
    "start_time": "2021-10-25T12:13:15.329Z"
   },
   {
    "duration": 99,
    "start_time": "2021-10-25T12:13:15.382Z"
   },
   {
    "duration": 62,
    "start_time": "2021-10-25T12:13:15.483Z"
   },
   {
    "duration": 5553,
    "start_time": "2021-10-25T12:14:03.405Z"
   },
   {
    "duration": 469,
    "start_time": "2021-10-25T12:14:20.045Z"
   },
   {
    "duration": 3,
    "start_time": "2021-10-25T12:17:41.818Z"
   },
   {
    "duration": 127,
    "start_time": "2021-10-25T12:17:41.824Z"
   },
   {
    "duration": 81,
    "start_time": "2021-10-25T12:17:41.954Z"
   },
   {
    "duration": 22,
    "start_time": "2021-10-25T12:17:42.037Z"
   },
   {
    "duration": 30,
    "start_time": "2021-10-25T12:17:42.061Z"
   },
   {
    "duration": 43,
    "start_time": "2021-10-25T12:17:42.093Z"
   },
   {
    "duration": 25,
    "start_time": "2021-10-25T12:17:42.138Z"
   },
   {
    "duration": 9,
    "start_time": "2021-10-25T12:17:42.167Z"
   },
   {
    "duration": 10,
    "start_time": "2021-10-25T12:17:42.179Z"
   },
   {
    "duration": 55,
    "start_time": "2021-10-25T12:17:42.191Z"
   },
   {
    "duration": 614,
    "start_time": "2021-10-25T12:17:42.249Z"
   },
   {
    "duration": 220,
    "start_time": "2021-10-25T12:17:42.865Z"
   },
   {
    "duration": 49,
    "start_time": "2021-10-25T12:17:43.087Z"
   },
   {
    "duration": 52,
    "start_time": "2021-10-25T12:17:43.139Z"
   },
   {
    "duration": 96,
    "start_time": "2021-10-25T12:17:43.193Z"
   },
   {
    "duration": 63,
    "start_time": "2021-10-25T12:17:43.291Z"
   },
   {
    "duration": 216,
    "start_time": "2021-10-25T12:17:45.746Z"
   },
   {
    "duration": 45,
    "start_time": "2021-10-25T12:20:09.038Z"
   },
   {
    "duration": 48,
    "start_time": "2021-10-25T12:20:47.357Z"
   },
   {
    "duration": 40,
    "start_time": "2021-10-25T13:36:45.730Z"
   },
   {
    "duration": 621,
    "start_time": "2021-10-25T17:17:18.044Z"
   },
   {
    "duration": 91,
    "start_time": "2021-10-25T17:17:18.667Z"
   },
   {
    "duration": 57,
    "start_time": "2021-10-25T17:17:18.760Z"
   },
   {
    "duration": 14,
    "start_time": "2021-10-25T17:17:18.818Z"
   },
   {
    "duration": 21,
    "start_time": "2021-10-25T17:17:18.834Z"
   },
   {
    "duration": 7,
    "start_time": "2021-10-25T17:17:18.857Z"
   },
   {
    "duration": 43,
    "start_time": "2021-10-25T17:17:18.865Z"
   },
   {
    "duration": 8,
    "start_time": "2021-10-25T17:17:18.912Z"
   },
   {
    "duration": 2,
    "start_time": "2021-10-25T17:17:18.922Z"
   },
   {
    "duration": 18,
    "start_time": "2021-10-25T17:17:18.925Z"
   },
   {
    "duration": 322,
    "start_time": "2021-10-25T17:17:18.945Z"
   },
   {
    "duration": 109,
    "start_time": "2021-10-25T17:17:19.269Z"
   },
   {
    "duration": 36,
    "start_time": "2021-10-25T17:17:19.380Z"
   },
   {
    "duration": 37,
    "start_time": "2021-10-25T17:17:19.418Z"
   },
   {
    "duration": 70,
    "start_time": "2021-10-25T17:17:19.456Z"
   },
   {
    "duration": 28,
    "start_time": "2021-10-25T17:17:19.528Z"
   },
   {
    "duration": 161,
    "start_time": "2021-10-25T17:17:19.557Z"
   },
   {
    "duration": 33,
    "start_time": "2021-10-25T17:17:19.720Z"
   },
   {
    "duration": 41,
    "start_time": "2021-10-25T17:17:19.755Z"
   },
   {
    "duration": 5,
    "start_time": "2021-10-26T05:16:58.581Z"
   },
   {
    "duration": 873,
    "start_time": "2021-10-26T05:27:38.504Z"
   },
   {
    "duration": 123,
    "start_time": "2021-10-26T05:27:39.380Z"
   },
   {
    "duration": 74,
    "start_time": "2021-10-26T05:27:40.927Z"
   },
   {
    "duration": 15,
    "start_time": "2021-10-26T05:27:42.079Z"
   },
   {
    "duration": 30,
    "start_time": "2021-10-26T05:27:45.440Z"
   },
   {
    "duration": 11,
    "start_time": "2021-10-26T05:27:52.127Z"
   },
   {
    "duration": 26,
    "start_time": "2021-10-26T05:27:55.911Z"
   },
   {
    "duration": 12,
    "start_time": "2021-10-26T05:27:59.800Z"
   },
   {
    "duration": 25,
    "start_time": "2021-10-26T05:36:29.032Z"
   },
   {
    "duration": 591,
    "start_time": "2021-10-26T05:36:30.031Z"
   },
   {
    "duration": 161,
    "start_time": "2021-10-26T05:36:41.808Z"
   },
   {
    "duration": 37,
    "start_time": "2021-10-26T05:38:13.252Z"
   },
   {
    "duration": 7358,
    "start_time": "2021-10-26T05:41:09.618Z"
   },
   {
    "duration": 4,
    "start_time": "2021-10-26T05:42:13.212Z"
   },
   {
    "duration": 129,
    "start_time": "2021-10-26T05:42:13.224Z"
   },
   {
    "duration": 86,
    "start_time": "2021-10-26T05:42:13.357Z"
   },
   {
    "duration": 15,
    "start_time": "2021-10-26T05:42:13.446Z"
   },
   {
    "duration": 30,
    "start_time": "2021-10-26T05:42:13.464Z"
   },
   {
    "duration": 35,
    "start_time": "2021-10-26T05:42:13.496Z"
   },
   {
    "duration": 26,
    "start_time": "2021-10-26T05:42:13.534Z"
   },
   {
    "duration": 10,
    "start_time": "2021-10-26T05:42:13.563Z"
   },
   {
    "duration": 69,
    "start_time": "2021-10-26T05:42:13.576Z"
   },
   {
    "duration": 593,
    "start_time": "2021-10-26T05:42:13.647Z"
   },
   {
    "duration": 174,
    "start_time": "2021-10-26T05:42:14.243Z"
   },
   {
    "duration": 37,
    "start_time": "2021-10-26T05:42:14.419Z"
   },
   {
    "duration": 79,
    "start_time": "2021-10-26T05:42:14.459Z"
   },
   {
    "duration": 83,
    "start_time": "2021-10-26T05:42:19.877Z"
   },
   {
    "duration": 44,
    "start_time": "2021-10-26T05:43:17.810Z"
   },
   {
    "duration": 209,
    "start_time": "2021-10-26T05:43:41.081Z"
   },
   {
    "duration": 38,
    "start_time": "2021-10-26T05:45:02.177Z"
   },
   {
    "duration": 598,
    "start_time": "2021-10-26T06:05:39.178Z"
   },
   {
    "duration": 326,
    "start_time": "2021-10-26T06:06:32.221Z"
   },
   {
    "duration": 376,
    "start_time": "2021-10-26T06:07:17.763Z"
   },
   {
    "duration": 363,
    "start_time": "2021-10-26T06:07:45.140Z"
   },
   {
    "duration": 316,
    "start_time": "2021-10-26T06:07:48.403Z"
   },
   {
    "duration": 307,
    "start_time": "2021-10-26T06:09:10.490Z"
   },
   {
    "duration": 318,
    "start_time": "2021-10-26T06:11:57.630Z"
   },
   {
    "duration": 316,
    "start_time": "2021-10-26T06:12:33.167Z"
   },
   {
    "duration": 284,
    "start_time": "2021-10-26T16:35:07.704Z"
   },
   {
    "duration": 861,
    "start_time": "2021-10-26T16:35:15.010Z"
   },
   {
    "duration": 120,
    "start_time": "2021-10-26T16:35:15.873Z"
   },
   {
    "duration": 80,
    "start_time": "2021-10-26T16:35:15.996Z"
   },
   {
    "duration": 16,
    "start_time": "2021-10-26T16:35:16.078Z"
   },
   {
    "duration": 50,
    "start_time": "2021-10-26T16:35:16.096Z"
   },
   {
    "duration": 26,
    "start_time": "2021-10-26T16:35:16.148Z"
   },
   {
    "duration": 26,
    "start_time": "2021-10-26T16:35:16.176Z"
   },
   {
    "duration": 31,
    "start_time": "2021-10-26T16:35:16.205Z"
   },
   {
    "duration": 26,
    "start_time": "2021-10-26T16:35:16.239Z"
   },
   {
    "duration": 617,
    "start_time": "2021-10-26T16:35:16.267Z"
   },
   {
    "duration": 177,
    "start_time": "2021-10-26T16:35:16.886Z"
   },
   {
    "duration": 35,
    "start_time": "2021-10-26T16:35:17.065Z"
   },
   {
    "duration": 70,
    "start_time": "2021-10-26T16:35:17.103Z"
   },
   {
    "duration": 96,
    "start_time": "2021-10-26T16:35:17.175Z"
   },
   {
    "duration": 59,
    "start_time": "2021-10-26T16:35:17.273Z"
   },
   {
    "duration": 235,
    "start_time": "2021-10-26T16:35:17.334Z"
   },
   {
    "duration": 65,
    "start_time": "2021-10-26T16:35:17.571Z"
   },
   {
    "duration": 40,
    "start_time": "2021-10-26T16:35:17.639Z"
   },
   {
    "duration": 350,
    "start_time": "2021-10-26T16:35:17.682Z"
   },
   {
    "duration": 314,
    "start_time": "2021-10-26T16:35:18.035Z"
   },
   {
    "duration": 317,
    "start_time": "2021-10-26T16:35:18.352Z"
   },
   {
    "duration": 352,
    "start_time": "2021-10-26T16:35:18.671Z"
   },
   {
    "duration": 306,
    "start_time": "2021-10-26T16:35:19.027Z"
   },
   {
    "duration": 11,
    "start_time": "2021-10-26T16:35:25.106Z"
   },
   {
    "duration": 247,
    "start_time": "2021-10-26T16:37:01.032Z"
   },
   {
    "duration": 234,
    "start_time": "2021-10-26T16:37:13.444Z"
   },
   {
    "duration": 18,
    "start_time": "2021-10-26T18:01:11.774Z"
   },
   {
    "duration": 11,
    "start_time": "2021-10-26T18:01:42.989Z"
   },
   {
    "duration": 10,
    "start_time": "2021-10-26T18:01:59.005Z"
   },
   {
    "duration": 224,
    "start_time": "2021-10-26T18:02:32.447Z"
   },
   {
    "duration": 216,
    "start_time": "2021-10-26T18:03:04.164Z"
   },
   {
    "duration": 19,
    "start_time": "2021-10-26T18:07:36.845Z"
   },
   {
    "duration": 10,
    "start_time": "2021-10-26T18:09:05.304Z"
   },
   {
    "duration": 228,
    "start_time": "2021-10-26T18:09:22.304Z"
   },
   {
    "duration": 218,
    "start_time": "2021-10-26T18:09:40.237Z"
   },
   {
    "duration": 219,
    "start_time": "2021-10-26T18:09:58.744Z"
   },
   {
    "duration": 243,
    "start_time": "2021-10-26T18:10:14.586Z"
   },
   {
    "duration": 215,
    "start_time": "2021-10-26T18:10:26.015Z"
   },
   {
    "duration": 299,
    "start_time": "2021-10-26T18:10:33.265Z"
   },
   {
    "duration": 16,
    "start_time": "2021-10-26T18:10:59.191Z"
   },
   {
    "duration": 222,
    "start_time": "2021-10-26T18:12:05.991Z"
   },
   {
    "duration": 213,
    "start_time": "2021-10-26T18:12:44.571Z"
   },
   {
    "duration": 5982,
    "start_time": "2021-10-26T18:30:48.117Z"
   },
   {
    "duration": 453,
    "start_time": "2021-10-26T18:31:16.340Z"
   },
   {
    "duration": 4,
    "start_time": "2021-10-26T18:33:55.325Z"
   },
   {
    "duration": 411,
    "start_time": "2021-10-26T18:34:05.969Z"
   },
   {
    "duration": 311,
    "start_time": "2021-10-26T18:34:47.778Z"
   },
   {
    "duration": 336,
    "start_time": "2021-10-26T18:35:01.113Z"
   },
   {
    "duration": 300,
    "start_time": "2021-10-26T18:35:26.836Z"
   },
   {
    "duration": 287,
    "start_time": "2021-10-26T18:36:00.263Z"
   },
   {
    "duration": 297,
    "start_time": "2021-10-26T18:36:25.789Z"
   },
   {
    "duration": 368,
    "start_time": "2021-10-26T18:41:02.011Z"
   },
   {
    "duration": 436,
    "start_time": "2021-10-27T05:31:33.756Z"
   },
   {
    "duration": 930,
    "start_time": "2021-10-27T05:31:43.397Z"
   },
   {
    "duration": 125,
    "start_time": "2021-10-27T05:31:44.330Z"
   },
   {
    "duration": 74,
    "start_time": "2021-10-27T05:31:44.458Z"
   },
   {
    "duration": 16,
    "start_time": "2021-10-27T05:31:44.535Z"
   },
   {
    "duration": 51,
    "start_time": "2021-10-27T05:31:44.553Z"
   },
   {
    "duration": 16,
    "start_time": "2021-10-27T05:31:44.607Z"
   },
   {
    "duration": 25,
    "start_time": "2021-10-27T05:31:44.626Z"
   },
   {
    "duration": 10,
    "start_time": "2021-10-27T05:31:44.655Z"
   },
   {
    "duration": 56,
    "start_time": "2021-10-27T05:31:44.668Z"
   },
   {
    "duration": 635,
    "start_time": "2021-10-27T05:31:44.726Z"
   },
   {
    "duration": 175,
    "start_time": "2021-10-27T05:31:45.363Z"
   },
   {
    "duration": 37,
    "start_time": "2021-10-27T05:31:45.541Z"
   },
   {
    "duration": 52,
    "start_time": "2021-10-27T05:31:45.600Z"
   },
   {
    "duration": 94,
    "start_time": "2021-10-27T05:31:45.654Z"
   },
   {
    "duration": 59,
    "start_time": "2021-10-27T05:31:45.750Z"
   },
   {
    "duration": 239,
    "start_time": "2021-10-27T05:31:45.811Z"
   },
   {
    "duration": 63,
    "start_time": "2021-10-27T05:31:46.052Z"
   },
   {
    "duration": 42,
    "start_time": "2021-10-27T05:31:46.118Z"
   },
   {
    "duration": 348,
    "start_time": "2021-10-27T05:31:46.162Z"
   },
   {
    "duration": 317,
    "start_time": "2021-10-27T05:31:46.513Z"
   },
   {
    "duration": 323,
    "start_time": "2021-10-27T05:31:46.832Z"
   },
   {
    "duration": 369,
    "start_time": "2021-10-27T05:31:47.158Z"
   },
   {
    "duration": 319,
    "start_time": "2021-10-27T05:31:47.532Z"
   },
   {
    "duration": 273,
    "start_time": "2021-10-27T05:31:47.854Z"
   },
   {
    "duration": 17,
    "start_time": "2021-10-27T05:31:48.129Z"
   },
   {
    "duration": 240,
    "start_time": "2021-10-27T05:31:48.148Z"
   },
   {
    "duration": 22,
    "start_time": "2021-10-27T05:31:48.390Z"
   },
   {
    "duration": 246,
    "start_time": "2021-10-27T05:31:48.415Z"
   },
   {
    "duration": 15,
    "start_time": "2021-10-27T05:31:48.664Z"
   },
   {
    "duration": 254,
    "start_time": "2021-10-27T05:31:48.682Z"
   },
   {
    "duration": 240,
    "start_time": "2021-10-27T05:31:48.939Z"
   },
   {
    "duration": 338,
    "start_time": "2021-10-27T05:31:49.181Z"
   },
   {
    "duration": 308,
    "start_time": "2021-10-27T05:31:49.522Z"
   },
   {
    "duration": 306,
    "start_time": "2021-10-27T05:31:49.832Z"
   },
   {
    "duration": 323,
    "start_time": "2021-10-27T05:31:50.140Z"
   },
   {
    "duration": 365,
    "start_time": "2021-10-27T05:31:50.466Z"
   },
   {
    "duration": 328,
    "start_time": "2021-10-27T05:32:04.926Z"
   },
   {
    "duration": 322,
    "start_time": "2021-10-27T05:32:15.048Z"
   },
   {
    "duration": 215,
    "start_time": "2021-10-27T05:34:35.638Z"
   },
   {
    "duration": 231,
    "start_time": "2021-10-27T05:34:42.278Z"
   },
   {
    "duration": 225,
    "start_time": "2021-10-27T05:34:52.838Z"
   },
   {
    "duration": 229,
    "start_time": "2021-10-27T05:35:11.558Z"
   },
   {
    "duration": 223,
    "start_time": "2021-10-27T05:40:22.441Z"
   },
   {
    "duration": 226,
    "start_time": "2021-10-27T05:40:30.649Z"
   },
   {
    "duration": 244,
    "start_time": "2021-10-27T06:06:38.682Z"
   },
   {
    "duration": 346,
    "start_time": "2021-10-27T06:13:08.040Z"
   },
   {
    "duration": 301,
    "start_time": "2021-10-27T06:13:26.324Z"
   },
   {
    "duration": 436,
    "start_time": "2021-10-27T06:13:33.244Z"
   },
   {
    "duration": 424,
    "start_time": "2021-10-27T06:13:43.227Z"
   },
   {
    "duration": 339,
    "start_time": "2021-10-27T06:13:50.068Z"
   },
   {
    "duration": 9,
    "start_time": "2021-10-27T06:16:31.345Z"
   },
   {
    "duration": 9,
    "start_time": "2021-10-27T06:16:36.721Z"
   },
   {
    "duration": 9,
    "start_time": "2021-10-27T06:16:58.720Z"
   },
   {
    "duration": 8,
    "start_time": "2021-10-27T06:17:10.552Z"
   },
   {
    "duration": 8,
    "start_time": "2021-10-27T06:17:14.696Z"
   },
   {
    "duration": 8,
    "start_time": "2021-10-27T06:17:19.623Z"
   },
   {
    "duration": 7,
    "start_time": "2021-10-27T06:17:24.224Z"
   },
   {
    "duration": 8,
    "start_time": "2021-10-27T06:17:28.568Z"
   },
   {
    "duration": 431,
    "start_time": "2021-10-27T07:03:30.956Z"
   },
   {
    "duration": 331,
    "start_time": "2021-10-27T07:03:57.143Z"
   },
   {
    "duration": 222,
    "start_time": "2021-10-27T07:06:02.917Z"
   },
   {
    "duration": 223,
    "start_time": "2021-10-27T07:06:07.988Z"
   },
   {
    "duration": 219,
    "start_time": "2021-10-27T07:06:13.784Z"
   },
   {
    "duration": 211,
    "start_time": "2021-10-27T07:06:18.277Z"
   },
   {
    "duration": 386,
    "start_time": "2021-10-27T07:16:31.913Z"
   },
   {
    "duration": 36,
    "start_time": "2021-10-27T07:16:40.708Z"
   },
   {
    "duration": 33,
    "start_time": "2021-10-27T07:17:06.068Z"
   },
   {
    "duration": 33,
    "start_time": "2021-10-27T07:17:16.604Z"
   },
   {
    "duration": 38,
    "start_time": "2021-10-27T11:46:43.426Z"
   },
   {
    "duration": 32,
    "start_time": "2021-10-27T11:47:25.596Z"
   },
   {
    "duration": 10,
    "start_time": "2021-10-27T11:54:07.748Z"
   },
   {
    "duration": 11,
    "start_time": "2021-10-27T11:59:58.005Z"
   },
   {
    "duration": 259,
    "start_time": "2021-10-27T12:00:05.773Z"
   },
   {
    "duration": 322,
    "start_time": "2021-10-27T12:00:22.064Z"
   },
   {
    "duration": 2682,
    "start_time": "2021-10-27T12:25:02.604Z"
   },
   {
    "duration": 9918,
    "start_time": "2021-10-27T12:25:17.862Z"
   },
   {
    "duration": 1218,
    "start_time": "2021-10-27T12:26:54.941Z"
   },
   {
    "duration": 1076,
    "start_time": "2021-10-27T12:29:57.224Z"
   },
   {
    "duration": 1060,
    "start_time": "2021-10-27T12:30:10.786Z"
   },
   {
    "duration": 600,
    "start_time": "2021-10-27T13:42:41.429Z"
   },
   {
    "duration": 568,
    "start_time": "2021-10-27T13:43:13.480Z"
   },
   {
    "duration": 553,
    "start_time": "2021-10-27T13:44:03.384Z"
   },
   {
    "duration": 612,
    "start_time": "2021-10-27T13:44:12.560Z"
   },
   {
    "duration": 390,
    "start_time": "2021-10-27T13:45:34.327Z"
   },
   {
    "duration": 678,
    "start_time": "2021-10-27T13:45:43.008Z"
   },
   {
    "duration": 555,
    "start_time": "2021-10-27T13:46:19.590Z"
   },
   {
    "duration": 582,
    "start_time": "2021-10-27T13:55:25.674Z"
   },
   {
    "duration": 587,
    "start_time": "2021-10-27T13:55:48.649Z"
   },
   {
    "duration": 436,
    "start_time": "2021-10-27T13:56:12.035Z"
   },
   {
    "duration": 616,
    "start_time": "2021-10-27T13:56:18.629Z"
   },
   {
    "duration": 608,
    "start_time": "2021-10-27T13:56:56.214Z"
   },
   {
    "duration": 612,
    "start_time": "2021-10-27T13:57:25.244Z"
   },
   {
    "duration": 588,
    "start_time": "2021-10-27T13:58:01.269Z"
   },
   {
    "duration": 696,
    "start_time": "2021-10-27T13:58:20.995Z"
   },
   {
    "duration": 679,
    "start_time": "2021-10-27T13:58:36.867Z"
   },
   {
    "duration": 630,
    "start_time": "2021-10-27T14:22:34.746Z"
   },
   {
    "duration": 3,
    "start_time": "2021-10-27T14:48:04.039Z"
   },
   {
    "duration": 139,
    "start_time": "2021-10-27T14:48:04.045Z"
   },
   {
    "duration": 73,
    "start_time": "2021-10-27T14:48:04.199Z"
   },
   {
    "duration": 32,
    "start_time": "2021-10-27T14:48:04.275Z"
   },
   {
    "duration": 32,
    "start_time": "2021-10-27T14:48:04.309Z"
   },
   {
    "duration": 12,
    "start_time": "2021-10-27T14:48:04.343Z"
   },
   {
    "duration": 50,
    "start_time": "2021-10-27T14:48:04.357Z"
   },
   {
    "duration": 10,
    "start_time": "2021-10-27T14:48:04.411Z"
   },
   {
    "duration": 26,
    "start_time": "2021-10-27T14:48:04.424Z"
   },
   {
    "duration": 676,
    "start_time": "2021-10-27T14:48:04.453Z"
   },
   {
    "duration": 174,
    "start_time": "2021-10-27T14:48:05.131Z"
   },
   {
    "duration": 38,
    "start_time": "2021-10-27T14:48:05.308Z"
   },
   {
    "duration": 88,
    "start_time": "2021-10-27T14:48:05.348Z"
   },
   {
    "duration": 87,
    "start_time": "2021-10-27T14:48:05.438Z"
   },
   {
    "duration": 46,
    "start_time": "2021-10-27T14:48:05.528Z"
   },
   {
    "duration": 243,
    "start_time": "2021-10-27T14:48:05.576Z"
   },
   {
    "duration": 47,
    "start_time": "2021-10-27T14:48:05.822Z"
   },
   {
    "duration": 59,
    "start_time": "2021-10-27T14:48:05.871Z"
   },
   {
    "duration": 346,
    "start_time": "2021-10-27T14:48:05.933Z"
   },
   {
    "duration": 339,
    "start_time": "2021-10-27T14:48:06.281Z"
   },
   {
    "duration": 330,
    "start_time": "2021-10-27T14:48:06.622Z"
   },
   {
    "duration": 316,
    "start_time": "2021-10-27T14:48:06.955Z"
   },
   {
    "duration": 309,
    "start_time": "2021-10-27T14:48:07.276Z"
   },
   {
    "duration": 268,
    "start_time": "2021-10-27T14:48:07.588Z"
   },
   {
    "duration": 15,
    "start_time": "2021-10-27T14:48:07.858Z"
   },
   {
    "duration": 247,
    "start_time": "2021-10-27T14:48:07.875Z"
   },
   {
    "duration": 19,
    "start_time": "2021-10-27T14:48:08.124Z"
   },
   {
    "duration": 259,
    "start_time": "2021-10-27T14:48:08.145Z"
   },
   {
    "duration": 16,
    "start_time": "2021-10-27T14:48:08.407Z"
   },
   {
    "duration": 241,
    "start_time": "2021-10-27T14:48:08.425Z"
   },
   {
    "duration": 242,
    "start_time": "2021-10-27T14:48:08.668Z"
   },
   {
    "duration": 329,
    "start_time": "2021-10-27T14:48:08.912Z"
   },
   {
    "duration": 318,
    "start_time": "2021-10-27T14:48:09.244Z"
   },
   {
    "duration": 321,
    "start_time": "2021-10-27T14:48:09.565Z"
   },
   {
    "duration": 352,
    "start_time": "2021-10-27T14:48:09.888Z"
   },
   {
    "duration": 311,
    "start_time": "2021-10-27T14:48:10.243Z"
   },
   {
    "duration": 343,
    "start_time": "2021-10-27T14:48:10.557Z"
   },
   {
    "duration": 380,
    "start_time": "2021-10-27T14:48:10.903Z"
   },
   {
    "duration": 378,
    "start_time": "2021-10-27T14:48:11.286Z"
   },
   {
    "duration": 53,
    "start_time": "2021-10-27T14:48:11.667Z"
   },
   {
    "duration": 359,
    "start_time": "2021-10-27T14:48:11.723Z"
   },
   {
    "duration": 672,
    "start_time": "2021-10-27T14:48:12.085Z"
   },
   {
    "duration": 613,
    "start_time": "2021-10-27T14:48:12.759Z"
   },
   {
    "duration": 632,
    "start_time": "2021-10-27T14:48:13.374Z"
   },
   {
    "duration": 655,
    "start_time": "2021-10-27T14:48:14.009Z"
   },
   {
    "duration": 619,
    "start_time": "2021-10-27T14:48:14.666Z"
   },
   {
    "duration": 633,
    "start_time": "2021-10-27T14:48:15.287Z"
   },
   {
    "duration": 636,
    "start_time": "2021-10-27T14:48:15.922Z"
   },
   {
    "duration": 710,
    "start_time": "2021-10-27T14:48:56.825Z"
   },
   {
    "duration": 129,
    "start_time": "2021-10-27T14:50:02.881Z"
   },
   {
    "duration": 300,
    "start_time": "2021-10-27T14:50:08.871Z"
   },
   {
    "duration": 310,
    "start_time": "2021-10-27T14:50:51.207Z"
   },
   {
    "duration": 778,
    "start_time": "2021-10-27T14:53:12.789Z"
   },
   {
    "duration": 597,
    "start_time": "2021-10-27T14:53:16.013Z"
   },
   {
    "duration": 36,
    "start_time": "2021-10-27T15:09:41.038Z"
   },
   {
    "duration": 455,
    "start_time": "2021-10-27T15:10:16.961Z"
   },
   {
    "duration": 441,
    "start_time": "2021-10-27T15:10:25.036Z"
   },
   {
    "duration": 38,
    "start_time": "2021-10-27T15:10:33.236Z"
   },
   {
    "duration": 36,
    "start_time": "2021-10-27T15:11:33.539Z"
   },
   {
    "duration": 344,
    "start_time": "2021-10-27T15:13:21.480Z"
   },
   {
    "duration": 360,
    "start_time": "2021-10-27T15:13:54.592Z"
   },
   {
    "duration": 4,
    "start_time": "2021-10-27T15:54:23.147Z"
   },
   {
    "duration": 158,
    "start_time": "2021-10-27T15:54:23.159Z"
   },
   {
    "duration": 98,
    "start_time": "2021-10-27T15:54:23.320Z"
   },
   {
    "duration": 16,
    "start_time": "2021-10-27T15:54:23.421Z"
   },
   {
    "duration": 60,
    "start_time": "2021-10-27T15:54:23.440Z"
   },
   {
    "duration": 15,
    "start_time": "2021-10-27T15:54:23.504Z"
   },
   {
    "duration": 26,
    "start_time": "2021-10-27T15:54:23.522Z"
   },
   {
    "duration": 11,
    "start_time": "2021-10-27T15:54:23.550Z"
   },
   {
    "duration": 41,
    "start_time": "2021-10-27T15:54:23.605Z"
   },
   {
    "duration": 698,
    "start_time": "2021-10-27T15:54:23.649Z"
   },
   {
    "duration": 194,
    "start_time": "2021-10-27T15:54:24.349Z"
   },
   {
    "duration": 54,
    "start_time": "2021-10-27T15:54:24.547Z"
   },
   {
    "duration": 59,
    "start_time": "2021-10-27T15:54:24.604Z"
   },
   {
    "duration": 111,
    "start_time": "2021-10-27T15:54:24.667Z"
   },
   {
    "duration": 63,
    "start_time": "2021-10-27T15:54:24.781Z"
   },
   {
    "duration": 266,
    "start_time": "2021-10-27T15:54:24.847Z"
   },
   {
    "duration": 47,
    "start_time": "2021-10-27T15:54:25.116Z"
   },
   {
    "duration": 72,
    "start_time": "2021-10-27T15:54:25.165Z"
   },
   {
    "duration": 364,
    "start_time": "2021-10-27T15:54:25.240Z"
   },
   {
    "duration": 350,
    "start_time": "2021-10-27T15:54:25.608Z"
   },
   {
    "duration": 348,
    "start_time": "2021-10-27T15:54:25.962Z"
   },
   {
    "duration": 348,
    "start_time": "2021-10-27T15:54:26.312Z"
   },
   {
    "duration": 342,
    "start_time": "2021-10-27T15:54:26.662Z"
   },
   {
    "duration": 278,
    "start_time": "2021-10-27T15:54:27.014Z"
   },
   {
    "duration": 22,
    "start_time": "2021-10-27T15:54:27.295Z"
   },
   {
    "duration": 256,
    "start_time": "2021-10-27T15:54:27.319Z"
   },
   {
    "duration": 32,
    "start_time": "2021-10-27T15:54:27.577Z"
   },
   {
    "duration": 243,
    "start_time": "2021-10-27T15:54:27.613Z"
   },
   {
    "duration": 16,
    "start_time": "2021-10-27T15:54:27.858Z"
   },
   {
    "duration": 256,
    "start_time": "2021-10-27T15:54:27.876Z"
   },
   {
    "duration": 251,
    "start_time": "2021-10-27T15:54:28.135Z"
   },
   {
    "duration": 346,
    "start_time": "2021-10-27T15:54:28.388Z"
   },
   {
    "duration": 346,
    "start_time": "2021-10-27T15:54:28.736Z"
   },
   {
    "duration": 342,
    "start_time": "2021-10-27T15:54:29.085Z"
   },
   {
    "duration": 337,
    "start_time": "2021-10-27T15:54:29.430Z"
   },
   {
    "duration": 335,
    "start_time": "2021-10-27T15:54:29.769Z"
   },
   {
    "duration": 465,
    "start_time": "2021-10-27T15:54:30.108Z"
   },
   {
    "duration": 256,
    "start_time": "2021-10-27T15:54:30.576Z"
   },
   {
    "duration": 600,
    "start_time": "2021-10-27T15:54:30.835Z"
   },
   {
    "duration": 35,
    "start_time": "2021-10-27T15:54:31.437Z"
   },
   {
    "duration": 393,
    "start_time": "2021-10-27T15:54:31.475Z"
   },
   {
    "duration": 625,
    "start_time": "2021-10-27T15:54:31.871Z"
   },
   {
    "duration": 689,
    "start_time": "2021-10-27T15:54:32.502Z"
   },
   {
    "duration": 756,
    "start_time": "2021-10-27T15:54:33.200Z"
   },
   {
    "duration": 645,
    "start_time": "2021-10-27T15:54:33.959Z"
   },
   {
    "duration": 664,
    "start_time": "2021-10-27T15:54:34.607Z"
   },
   {
    "duration": 608,
    "start_time": "2021-10-27T15:54:35.274Z"
   },
   {
    "duration": 342,
    "start_time": "2021-10-27T15:54:35.885Z"
   },
   {
    "duration": 327,
    "start_time": "2021-10-27T15:54:36.229Z"
   },
   {
    "duration": 630,
    "start_time": "2021-10-27T15:54:36.558Z"
   },
   {
    "duration": 391,
    "start_time": "2021-10-27T15:54:37.191Z"
   },
   {
    "duration": 666,
    "start_time": "2021-10-27T15:54:37.585Z"
   },
   {
    "duration": 395,
    "start_time": "2021-10-27T15:54:38.253Z"
   },
   {
    "duration": 1704,
    "start_time": "2021-10-27T21:06:47.023Z"
   },
   {
    "duration": 120,
    "start_time": "2021-10-27T21:06:48.729Z"
   },
   {
    "duration": 87,
    "start_time": "2021-10-27T21:06:48.852Z"
   },
   {
    "duration": 19,
    "start_time": "2021-10-27T21:06:48.942Z"
   },
   {
    "duration": 20,
    "start_time": "2021-10-27T21:06:48.964Z"
   },
   {
    "duration": 39,
    "start_time": "2021-10-27T21:06:48.987Z"
   },
   {
    "duration": 52,
    "start_time": "2021-10-27T21:06:49.030Z"
   },
   {
    "duration": 35,
    "start_time": "2021-10-27T21:06:49.088Z"
   },
   {
    "duration": 28,
    "start_time": "2021-10-27T21:06:49.126Z"
   },
   {
    "duration": 630,
    "start_time": "2021-10-27T21:06:49.156Z"
   },
   {
    "duration": 157,
    "start_time": "2021-10-27T21:06:49.788Z"
   },
   {
    "duration": 43,
    "start_time": "2021-10-27T21:06:49.947Z"
   },
   {
    "duration": 79,
    "start_time": "2021-10-27T21:06:49.993Z"
   },
   {
    "duration": 97,
    "start_time": "2021-10-27T21:06:50.075Z"
   },
   {
    "duration": 67,
    "start_time": "2021-10-27T21:06:50.175Z"
   },
   {
    "duration": 227,
    "start_time": "2021-10-27T21:06:50.245Z"
   },
   {
    "duration": 63,
    "start_time": "2021-10-27T21:06:50.475Z"
   },
   {
    "duration": 38,
    "start_time": "2021-10-27T21:06:50.541Z"
   },
   {
    "duration": 1044,
    "start_time": "2021-10-27T21:06:50.583Z"
   },
   {
    "duration": 353,
    "start_time": "2021-10-27T21:06:51.631Z"
   },
   {
    "duration": 311,
    "start_time": "2021-10-27T21:06:51.987Z"
   },
   {
    "duration": 367,
    "start_time": "2021-10-27T21:06:52.301Z"
   },
   {
    "duration": 308,
    "start_time": "2021-10-27T21:06:52.674Z"
   },
   {
    "duration": 308,
    "start_time": "2021-10-27T21:06:52.985Z"
   },
   {
    "duration": 34,
    "start_time": "2021-10-27T21:06:53.296Z"
   },
   {
    "duration": 261,
    "start_time": "2021-10-27T21:06:53.333Z"
   },
   {
    "duration": 26,
    "start_time": "2021-10-27T21:06:53.597Z"
   },
   {
    "duration": 281,
    "start_time": "2021-10-27T21:06:53.626Z"
   },
   {
    "duration": 23,
    "start_time": "2021-10-27T21:06:53.909Z"
   },
   {
    "duration": 269,
    "start_time": "2021-10-27T21:06:53.935Z"
   },
   {
    "duration": 273,
    "start_time": "2021-10-27T21:06:54.206Z"
   },
   {
    "duration": 434,
    "start_time": "2021-10-27T21:06:54.482Z"
   },
   {
    "duration": 408,
    "start_time": "2021-10-27T21:06:54.922Z"
   },
   {
    "duration": 407,
    "start_time": "2021-10-27T21:06:55.332Z"
   },
   {
    "duration": 332,
    "start_time": "2021-10-27T21:06:55.742Z"
   },
   {
    "duration": 305,
    "start_time": "2021-10-27T21:06:56.077Z"
   },
   {
    "duration": 426,
    "start_time": "2021-10-27T21:06:56.384Z"
   },
   {
    "duration": 267,
    "start_time": "2021-10-27T21:06:56.821Z"
   },
   {
    "duration": 358,
    "start_time": "2021-10-27T21:06:57.092Z"
   },
   {
    "duration": 32,
    "start_time": "2021-10-27T21:06:57.453Z"
   },
   {
    "duration": 430,
    "start_time": "2021-10-27T21:06:57.487Z"
   },
   {
    "duration": 638,
    "start_time": "2021-10-27T21:06:57.923Z"
   },
   {
    "duration": 608,
    "start_time": "2021-10-27T21:06:58.564Z"
   },
   {
    "duration": 591,
    "start_time": "2021-10-27T21:06:59.176Z"
   },
   {
    "duration": 619,
    "start_time": "2021-10-27T21:06:59.769Z"
   },
   {
    "duration": 581,
    "start_time": "2021-10-27T21:07:00.390Z"
   },
   {
    "duration": 600,
    "start_time": "2021-10-27T21:07:00.974Z"
   },
   {
    "duration": 306,
    "start_time": "2021-10-27T21:07:01.576Z"
   },
   {
    "duration": 307,
    "start_time": "2021-10-27T21:07:01.885Z"
   },
   {
    "duration": 703,
    "start_time": "2021-10-27T21:07:02.195Z"
   },
   {
    "duration": 345,
    "start_time": "2021-10-27T21:07:02.901Z"
   },
   {
    "duration": 705,
    "start_time": "2021-10-27T21:07:03.248Z"
   },
   {
    "duration": 348,
    "start_time": "2021-10-27T21:07:03.955Z"
   },
   {
    "duration": 1460,
    "start_time": "2021-10-28T14:04:17.132Z"
   },
   {
    "duration": 121,
    "start_time": "2021-10-28T14:04:18.594Z"
   },
   {
    "duration": 71,
    "start_time": "2021-10-28T14:04:18.718Z"
   },
   {
    "duration": 15,
    "start_time": "2021-10-28T14:04:18.791Z"
   },
   {
    "duration": 29,
    "start_time": "2021-10-28T14:04:18.829Z"
   },
   {
    "duration": 10,
    "start_time": "2021-10-28T14:04:18.861Z"
   },
   {
    "duration": 39,
    "start_time": "2021-10-28T14:04:18.873Z"
   },
   {
    "duration": 116,
    "start_time": "2021-10-28T14:04:25.415Z"
   },
   {
    "duration": 115,
    "start_time": "2021-10-28T14:04:35.430Z"
   },
   {
    "duration": 20,
    "start_time": "2021-10-28T14:09:48.617Z"
   },
   {
    "duration": 19,
    "start_time": "2021-10-28T14:10:48.210Z"
   },
   {
    "duration": 24,
    "start_time": "2021-10-28T14:11:00.563Z"
   },
   {
    "duration": 31,
    "start_time": "2021-10-28T14:11:10.403Z"
   },
   {
    "duration": 30,
    "start_time": "2021-10-28T14:11:17.771Z"
   },
   {
    "duration": 4,
    "start_time": "2021-10-28T14:11:54.255Z"
   },
   {
    "duration": 121,
    "start_time": "2021-10-28T14:11:54.265Z"
   },
   {
    "duration": 71,
    "start_time": "2021-10-28T14:11:54.389Z"
   },
   {
    "duration": 15,
    "start_time": "2021-10-28T14:11:54.463Z"
   },
   {
    "duration": 50,
    "start_time": "2021-10-28T14:11:54.481Z"
   },
   {
    "duration": 11,
    "start_time": "2021-10-28T14:11:54.534Z"
   },
   {
    "duration": 25,
    "start_time": "2021-10-28T14:11:54.547Z"
   },
   {
    "duration": 154,
    "start_time": "2021-10-28T14:11:54.575Z"
   },
   {
    "duration": 35,
    "start_time": "2021-10-28T14:11:59.153Z"
   },
   {
    "duration": 5773,
    "start_time": "2021-10-28T14:14:15.525Z"
   },
   {
    "duration": 55,
    "start_time": "2021-10-28T14:14:30.255Z"
   },
   {
    "duration": 4,
    "start_time": "2021-10-28T14:14:36.651Z"
   },
   {
    "duration": 122,
    "start_time": "2021-10-28T14:14:36.663Z"
   },
   {
    "duration": 78,
    "start_time": "2021-10-28T14:14:36.789Z"
   },
   {
    "duration": 17,
    "start_time": "2021-10-28T14:14:36.871Z"
   },
   {
    "duration": 56,
    "start_time": "2021-10-28T14:14:36.891Z"
   },
   {
    "duration": 13,
    "start_time": "2021-10-28T14:14:36.951Z"
   },
   {
    "duration": 29,
    "start_time": "2021-10-28T14:14:36.967Z"
   },
   {
    "duration": 132,
    "start_time": "2021-10-28T14:14:37.028Z"
   },
   {
    "duration": 35,
    "start_time": "2021-10-28T14:14:37.163Z"
   },
   {
    "duration": 45,
    "start_time": "2021-10-28T14:14:37.202Z"
   },
   {
    "duration": 573,
    "start_time": "2021-10-28T14:14:37.249Z"
   },
   {
    "duration": 167,
    "start_time": "2021-10-28T14:14:37.829Z"
   },
   {
    "duration": 45,
    "start_time": "2021-10-28T14:14:37.999Z"
   },
   {
    "duration": 51,
    "start_time": "2021-10-28T14:14:38.046Z"
   },
   {
    "duration": 46,
    "start_time": "2021-10-28T14:14:45.479Z"
   },
   {
    "duration": 3,
    "start_time": "2021-10-28T14:15:22.049Z"
   },
   {
    "duration": 135,
    "start_time": "2021-10-28T14:15:22.059Z"
   },
   {
    "duration": 93,
    "start_time": "2021-10-28T14:15:22.197Z"
   },
   {
    "duration": 15,
    "start_time": "2021-10-28T14:15:22.293Z"
   },
   {
    "duration": 47,
    "start_time": "2021-10-28T14:15:22.311Z"
   },
   {
    "duration": 10,
    "start_time": "2021-10-28T14:15:22.360Z"
   },
   {
    "duration": 26,
    "start_time": "2021-10-28T14:15:22.372Z"
   },
   {
    "duration": 123,
    "start_time": "2021-10-28T14:15:22.430Z"
   },
   {
    "duration": 34,
    "start_time": "2021-10-28T14:15:22.557Z"
   },
   {
    "duration": 53,
    "start_time": "2021-10-28T14:15:22.595Z"
   },
   {
    "duration": 580,
    "start_time": "2021-10-28T14:15:22.651Z"
   },
   {
    "duration": 183,
    "start_time": "2021-10-28T14:15:23.234Z"
   },
   {
    "duration": 52,
    "start_time": "2021-10-28T14:15:23.420Z"
   },
   {
    "duration": 76,
    "start_time": "2021-10-28T14:15:23.475Z"
   },
   {
    "duration": 75,
    "start_time": "2021-10-28T14:15:23.554Z"
   },
   {
    "duration": 46,
    "start_time": "2021-10-28T14:15:23.631Z"
   },
   {
    "duration": 224,
    "start_time": "2021-10-28T14:15:23.679Z"
   },
   {
    "duration": 63,
    "start_time": "2021-10-28T14:15:23.905Z"
   },
   {
    "duration": 40,
    "start_time": "2021-10-28T14:15:23.970Z"
   },
   {
    "duration": 325,
    "start_time": "2021-10-28T14:15:24.030Z"
   },
   {
    "duration": 313,
    "start_time": "2021-10-28T14:15:24.358Z"
   },
   {
    "duration": 298,
    "start_time": "2021-10-28T14:15:24.673Z"
   },
   {
    "duration": 414,
    "start_time": "2021-10-28T14:15:24.973Z"
   },
   {
    "duration": 313,
    "start_time": "2021-10-28T14:15:25.393Z"
   },
   {
    "duration": 247,
    "start_time": "2021-10-28T14:15:25.709Z"
   },
   {
    "duration": 16,
    "start_time": "2021-10-28T14:15:25.959Z"
   },
   {
    "duration": 292,
    "start_time": "2021-10-28T14:15:25.978Z"
   },
   {
    "duration": 16,
    "start_time": "2021-10-28T14:15:26.273Z"
   },
   {
    "duration": 240,
    "start_time": "2021-10-28T14:15:26.292Z"
   },
   {
    "duration": 16,
    "start_time": "2021-10-28T14:15:26.534Z"
   },
   {
    "duration": 232,
    "start_time": "2021-10-28T14:15:26.552Z"
   },
   {
    "duration": 221,
    "start_time": "2021-10-28T14:15:26.786Z"
   },
   {
    "duration": 320,
    "start_time": "2021-10-28T14:15:27.009Z"
   },
   {
    "duration": 294,
    "start_time": "2021-10-28T14:15:27.331Z"
   },
   {
    "duration": 301,
    "start_time": "2021-10-28T14:15:27.629Z"
   },
   {
    "duration": 304,
    "start_time": "2021-10-28T14:15:27.933Z"
   },
   {
    "duration": 289,
    "start_time": "2021-10-28T14:15:28.240Z"
   },
   {
    "duration": 323,
    "start_time": "2021-10-28T14:15:28.531Z"
   },
   {
    "duration": 218,
    "start_time": "2021-10-28T14:15:28.857Z"
   },
   {
    "duration": 338,
    "start_time": "2021-10-28T14:15:29.078Z"
   },
   {
    "duration": 40,
    "start_time": "2021-10-28T14:15:29.419Z"
   },
   {
    "duration": 422,
    "start_time": "2021-10-28T14:15:29.461Z"
   },
   {
    "duration": 599,
    "start_time": "2021-10-28T14:15:29.886Z"
   },
   {
    "duration": 595,
    "start_time": "2021-10-28T14:15:30.487Z"
   },
   {
    "duration": 620,
    "start_time": "2021-10-28T14:15:31.085Z"
   },
   {
    "duration": 584,
    "start_time": "2021-10-28T14:15:31.708Z"
   },
   {
    "duration": 591,
    "start_time": "2021-10-28T14:15:32.294Z"
   },
   {
    "duration": 585,
    "start_time": "2021-10-28T14:15:32.887Z"
   },
   {
    "duration": 299,
    "start_time": "2021-10-28T14:15:33.476Z"
   },
   {
    "duration": 310,
    "start_time": "2021-10-28T14:15:33.777Z"
   },
   {
    "duration": 626,
    "start_time": "2021-10-28T14:15:34.090Z"
   },
   {
    "duration": 353,
    "start_time": "2021-10-28T14:15:34.719Z"
   },
   {
    "duration": 788,
    "start_time": "2021-10-28T14:15:35.074Z"
   },
   {
    "duration": 355,
    "start_time": "2021-10-28T14:15:35.865Z"
   }
  ],
  "kernelspec": {
   "display_name": "Python 3 (ipykernel)",
   "language": "python",
   "name": "python3"
  },
  "language_info": {
   "codemirror_mode": {
    "name": "ipython",
    "version": 3
   },
   "file_extension": ".py",
   "mimetype": "text/x-python",
   "name": "python",
   "nbconvert_exporter": "python",
   "pygments_lexer": "ipython3",
   "version": "3.9.12"
  },
  "toc": {
   "base_numbering": 1,
   "nav_menu": {},
   "number_sections": true,
   "sideBar": true,
   "skip_h1_title": true,
   "title_cell": "Table of Contents",
   "title_sidebar": "Contents",
   "toc_cell": false,
   "toc_position": {
    "height": "calc(100% - 180px)",
    "left": "10px",
    "top": "150px",
    "width": "200.6px"
   },
   "toc_section_display": true,
   "toc_window_display": true
  }
 },
 "nbformat": 4,
 "nbformat_minor": 2
}
